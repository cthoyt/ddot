{
 "cells": [
  {
   "cell_type": "markdown",
   "metadata": {
    "nbpresent": {
     "id": "122ad36c-8ca6-4194-a6c1-1c0f07903677"
    }
   },
   "source": [
    "# Introduction: Constructing a data-driven gene ontology to study disease mechanisms\n",
    "\n",
    "This notebook demonstrates how to create data-driven gene ontologies to study disease mechanisms. This notebook focuses on Fanconi Anemia (FA), a rare genetic disorder that is associated with bone marrow failure, myeloid dysplasia, and increased cancer risk. Although mutations in 20 genes are known to cause FA by dysrupting the repair of DNA damage, the existence of other FA genes and the involvement of other pathways besides DNA repair remain unclear. To discover new FA genes and pathways, this notebook executes a five-step pipeline to construct a Fanconi Anemia gene ontology (FanGO)\n",
    "\n",
    "1. Gather input data, consisting of the 20 known FA genes as a seed set of genes for modeling and a pre-computed gene similarity network derived by integrating several types of molecular evidence including protein-protein interactions, co-expression, co-localization, and epistasis.\n",
    "\n",
    "2. Score every gene for its involvement in FA by calculating its average functional similarity to the seed genes. The minimum score among the seed genes was used as a threshold to identify an additional set of 174 candidate genes.\n",
    "\n",
    "3. Organize all genes in a hierarchy of 74 cellular subsystems to construct FanGO.\n",
    "\n",
    "4. Align FanGO to the Gene Ontology.\n",
    "\n",
    "5. Upload FanGO to an online database, the Network Data Exchange ([NDEx](http://ndexbio.org)), and visualize FanGO in the [HiView](http://hiview.ucsd.edu) web application.\n",
    "\n",
    "Code is also provided to analyze 651 other diseases using a similar pipeline. Known gene-disease associations are taken from the [Monarch Initiative database](https://monarchinitiative.org/)\n",
    "\n",
    "Before reading this notebook, it is recommended that you look at the [DDOT tutorial](https://github.com/michaelkyu/ddot/blob/master/examples/Tutorial.ipynb)\n",
    "\n",
    "<img src=\"https://raw.githubusercontent.com/michaelkyu/ddot/master/docs/software_pipeline_23jan2018.png\" width=\"700\" align=\"left\">"
   ]
  },
  {
   "cell_type": "code",
   "execution_count": 3,
   "metadata": {
    "ExecuteTime": {
     "end_time": "2018-06-08T19:47:55.667629Z",
     "start_time": "2018-06-08T19:47:54.273506Z"
    },
    "nbpresent": {
     "id": "25718bac-8f5f-4d23-a2a9-b5be1791371b"
    }
   },
   "outputs": [],
   "source": [
    "import pandas as pd\n",
    "import networkx as nx\n",
    "import numpy as np\n",
    "import os\n",
    "from ndex.client import Ndex\n",
    "\n",
    "import ddot\n",
    "from ddot import Ontology, ndex_to_sim_matrix, expand_seed, melt_square, make_seed_ontology, make_index"
   ]
  },
  {
   "cell_type": "markdown",
   "metadata": {
    "nbpresent": {
     "id": "1be29053-42b0-4eb0-bcdc-c2de670b16ce"
    }
   },
   "source": [
    "# Set the NDEx server and the user account/password\n",
    "* Replace with your own NDEx user account"
   ]
  },
  {
   "cell_type": "code",
   "execution_count": 5,
   "metadata": {
    "ExecuteTime": {
     "end_time": "2018-06-08T19:48:08.814752Z",
     "start_time": "2018-06-08T19:48:08.809647Z"
    },
    "nbpresent": {
     "id": "854ac2f2-4c1c-4d99-ad12-c6710e7e7dd7"
    }
   },
   "outputs": [
    {
     "data": {
      "text/plain": [
       "<ndex.client.Ndex at 0x119c26e10>"
      ]
     },
     "execution_count": 5,
     "metadata": {},
     "output_type": "execute_result"
    }
   ],
   "source": [
    "ndex_server = 'http://ndexbio.org'\n",
    "ndex_user, ndex_pass = os.environ['NDEX_USERNAME'], os.environ['NDEX_PASSWORD']\n",
    "ndex = Ndex(ndex_server, ndex_user, ndex_pass)\n",
    "ndex"
   ]
  },
  {
   "cell_type": "markdown",
   "metadata": {},
   "source": [
    "# Read gene-gene integrated similarity network"
   ]
  },
  {
   "cell_type": "code",
   "execution_count": null,
   "metadata": {
    "ExecuteTime": {
     "end_time": "2018-06-08T19:48:46.097925Z",
     "start_time": "2018-06-08T19:48:46.090140Z"
    }
   },
   "outputs": [],
   "source": [
    "## Read gene similarity network\n",
    "sim, sim_names = ndex_to_sim_matrix(\n",
    "    ndex_uuid='d2dfa5cc-56de-11e7-a2e2-0660b7976219',\n",
    "    similarity='similarity',\n",
    "    input_fmt='cx_matrix',\n",
    "    output_fmt='matrix',\n",
    "    subset=None,\n",
    ")\n",
    "\n",
    "sim = pd.DataFrame(sim, columns=sim_names, index=sim_names)\n",
    "\n",
    "## Rank transform the similarities\n",
    "sim_rank = sim.rank(0) / (sim.shape[0] - 1)\n",
    "sim_rank = pd.DataFrame((sim_rank.values + sim_rank.values.T) / 2.0, columns=sim_names, index=sim_names)\n",
    "\n",
    "sim_rank.head()"
   ]
  },
  {
   "cell_type": "code",
   "execution_count": null,
   "metadata": {
    "ExecuteTime": {
     "end_time": "2018-06-08T19:48:55.608189Z",
     "start_time": "2018-06-08T19:48:46.690545Z"
    }
   },
   "outputs": [],
   "source": [
    "tmp = np.load('/cellar/users/mikeyu/DeepTranslate/hnexo/RFv2r3_square.npz')\n",
    "sim, sim_names = tmp['rf'], tmp['genes']\n",
    "np.fill_diagonal(sim, 0)\n",
    "sim[np.isnan(sim)] = 0\n",
    "sim = pd.DataFrame(sim, columns=sim_names, index=sim_names)\n",
    "\n",
    "tmp = np.load('/cellar/users/mikeyu/DeepTranslate/hnexo/RFv2r3_square.ranked.npz')\n",
    "sim_rank, sim_names = tmp['rf'], tmp['genes']\n",
    "sim_rank = pd.DataFrame(sim_rank, columns=sim_names, index=sim_names)"
   ]
  },
  {
   "cell_type": "markdown",
   "metadata": {
    "nbpresent": {
     "id": "f0d07107-fd03-42b8-bf19-fdf2ffde5b61"
    }
   },
   "source": [
    "# Specify a set of seed genes with known associations to the disease being studied"
   ]
  },
  {
   "cell_type": "code",
   "execution_count": null,
   "metadata": {
    "ExecuteTime": {
     "end_time": "2018-06-08T19:48:55.617387Z",
     "start_time": "2018-06-08T19:48:55.612195Z"
    },
    "nbpresent": {
     "id": "18901780-c455-4bac-a323-4d4a146c4de1"
    }
   },
   "outputs": [],
   "source": [
    "# Let seed genes be the 20 known genes that cause Fanconi Anemia (from the Fanconi Anemia Mutation Database, http://www2.rockefeller.edu/fanconi/)\n",
    "seed = ['FANCA', 'FANCB', 'FANCC', 'BRCA2', 'FANCD2',\n",
    "        'FANCE', 'FANCF', 'FANCG', 'FANCI', 'BRIP1',\n",
    "        'FANCL', 'FANCM', 'PALB2', 'RAD51C', 'SLX4',\n",
    "        'ERCC4', 'RAD51', 'BRCA1', 'UBE2T', 'XRCC2']"
   ]
  },
  {
   "cell_type": "code",
   "execution_count": null,
   "metadata": {
    "ExecuteTime": {
     "end_time": "2018-06-08T19:48:55.626301Z",
     "start_time": "2018-06-08T19:48:55.621255Z"
    },
    "nbpresent": {
     "id": "628f6bcc-91c6-4807-90cb-2f82b12a2892"
    }
   },
   "outputs": [],
   "source": [
    "# # Let seed genes be the known genese for one of 651 diseases (uncomment to use)\n",
    "\n",
    "# # Retrieve a table of gene-disease associations from the Monarch Initiative (reformatted and stored on NDEx)\n",
    "# monarch, _ = ddot.ndex_to_sim_matrix(\n",
    "#     ddot.config.MONARCH_DISEASE_GENE_SLIM_URL,\n",
    "#     similarity=None,\n",
    "#     input_fmt='cx',\n",
    "#     output_fmt='sparse')\n",
    "# print(monarch.head())\n",
    "\n",
    "# # Example: get the known genes for Caffey Disease\n",
    "# seed = monarch.loc[monarch['disease']=='caffey_disease', 'gene'].tolist()\n",
    "# seed = [s for s in seed if s in sim_names]\n",
    "# print('Seed:', seed)"
   ]
  },
  {
   "cell_type": "markdown",
   "metadata": {
    "nbpresent": {
     "id": "f0261c45-a5fc-443a-989b-90e07507d20e"
    }
   },
   "source": [
    "# Identify candidate set of genes that are highly similar to the seed set of genes"
   ]
  },
  {
   "cell_type": "code",
   "execution_count": null,
   "metadata": {
    "ExecuteTime": {
     "end_time": "2018-06-08T19:48:56.336528Z",
     "start_time": "2018-06-08T19:48:56.313252Z"
    },
    "nbpresent": {
     "id": "38b31ac6-24d7-4012-9497-2e1114d548d2"
    }
   },
   "outputs": [],
   "source": [
    "expand, expand_idx, sim_2_seed, fig = expand_seed(\n",
    "    seed,\n",
    "    sim_rank.values,\n",
    "    sim_names,\n",
    "    seed_perc=0,\n",
    "    agg='mean',\n",
    "    figure=True)"
   ]
  },
  {
   "cell_type": "markdown",
   "metadata": {
    "nbpresent": {
     "id": "aa21f852-ff5b-4380-82c9-0caa92162ead"
    }
   },
   "source": [
    "# Organize seed and candidate genes into a data-driven gene ontology"
   ]
  },
  {
   "cell_type": "code",
   "execution_count": null,
   "metadata": {
    "ExecuteTime": {
     "end_time": "2018-06-08T19:48:58.251005Z",
     "start_time": "2018-06-08T19:48:57.777776Z"
    },
    "nbpresent": {
     "id": "080d0cb5-6d63-44e2-8d94-165a2cd7ad81"
    }
   },
   "outputs": [],
   "source": [
    "# Run CliXO, with parameters alpha=0.05 and beta=0.5\n",
    "ont = Ontology.run_clixo(sim.loc[expand, :].loc[:, expand], alpha=0.05, beta=0.5, square=True)\n",
    "ont"
   ]
  },
  {
   "cell_type": "markdown",
   "metadata": {
    "nbpresent": {
     "id": "260b3d19-9afc-4fe4-91b1-7a3fbd3c1135"
    }
   },
   "source": [
    "# Align the data-driven ontology with the Gene Ontology (GO)"
   ]
  },
  {
   "cell_type": "code",
   "execution_count": null,
   "metadata": {
    "ExecuteTime": {
     "end_time": "2018-06-08T19:49:42.479859Z",
     "start_time": "2018-06-08T19:48:59.398682Z"
    },
    "nbpresent": {
     "id": "8d454a74-6744-48ec-ab46-b8565c860512"
    }
   },
   "outputs": [],
   "source": [
    "# Read Gene Ontology from NDEx. This version has been pre-processed to contain a non-redundant set of GO terms and connections that are relevant to human genes (see Get_Gene_Ontology.ipynb) \n",
    "go_human = Ontology.from_ndex(ddot.config.GO_HUMAN_URL)\n",
    "print(go_human)"
   ]
  },
  {
   "cell_type": "code",
   "execution_count": null,
   "metadata": {
    "ExecuteTime": {
     "end_time": "2018-06-08T19:49:59.668699Z",
     "start_time": "2018-06-08T19:49:42.483353Z"
    }
   },
   "outputs": [],
   "source": [
    "# Align ontologies\n",
    "alignment = ont.align(go_human, \n",
    "                      iterations=100,\n",
    "                      update_self=['Term_Description'],\n",
    "                      align_label='Term_Description',\n",
    "                      verbose=True)\n",
    "alignment.head()"
   ]
  },
  {
   "cell_type": "code",
   "execution_count": null,
   "metadata": {
    "ExecuteTime": {
     "end_time": "2018-06-08T19:49:59.705725Z",
     "start_time": "2018-06-08T19:49:59.672382Z"
    },
    "nbpresent": {
     "id": "ead00b01-64fe-439c-a274-15f303a3d5a4"
    }
   },
   "outputs": [],
   "source": [
    "# Note how node attributes have been updated to reflect the ontology alignment\n",
    "ont.node_attr"
   ]
  },
  {
   "cell_type": "markdown",
   "metadata": {
    "nbpresent": {
     "id": "b508af71-63cd-4275-9b77-9e8338e1a345"
    }
   },
   "source": [
    "# Upload ontology with NDEx to visualize in the HiView application (http://hiview.ucsd.edu)\n",
    "* A two-dimensional layout of nodes is automatically calculated to optimize visualization of hierarchical structure\n",
    "* Molecular networks, such as protein-protein interactions and RNA coexpression, can be visualized in HiView to understand how an ontology's structure is consistent with data\n",
    "* Node attributes (color and size) can be set to visualize metadata."
   ]
  },
  {
   "cell_type": "code",
   "execution_count": null,
   "metadata": {
    "ExecuteTime": {
     "end_time": "2018-06-08T19:49:59.717441Z",
     "start_time": "2018-06-08T19:49:59.709162Z"
    },
    "nbpresent": {
     "id": "bda55846-119b-4b2e-8d57-168b72b2193d"
    }
   },
   "outputs": [],
   "source": [
    "# Set the node color of seed genes to be green\n",
    "fill_attr = pd.DataFrame({'Vis:Fill Color' : '#6ACC65'}, index=seed)\n",
    "ont.update_node_attr(fill_attr)"
   ]
  },
  {
   "cell_type": "code",
   "execution_count": null,
   "metadata": {
    "ExecuteTime": {
     "end_time": "2018-06-08T19:49:59.727801Z",
     "start_time": "2018-06-08T19:49:59.718621Z"
    },
    "nbpresent": {
     "id": "dec08f16-ed17-4716-95cb-bdbf6e56e2d1"
    }
   },
   "outputs": [],
   "source": [
    "# Set the node color of inferred terms according to the alignment with GO (for visualization in HiView)\n",
    "fill_attr = ont.node_attr['Aligned_Similarity'].dropna().map(ddot.color_gradient)\n",
    "fill_attr = fill_attr.to_frame().rename(columns={'Aligned_Similarity' : 'Vis:Fill Color'})\n",
    "ont.update_node_attr(fill_attr)"
   ]
  },
  {
   "cell_type": "code",
   "execution_count": null,
   "metadata": {
    "ExecuteTime": {
     "end_time": "2018-06-08T19:50:10.122533Z",
     "start_time": "2018-06-08T19:49:59.731464Z"
    },
    "nbpresent": {
     "id": "44364aa3-b43a-485c-98e0-632ce5dfeb57"
    }
   },
   "outputs": [],
   "source": [
    "# Download a table containing multiple types of gene-gene interactions, which were preformatted and uploaded to NDEx for the Fanconi Anemia example.\n",
    "from ndex.networkn import NdexGraph\n",
    "G_ndex = NdexGraph(server='http://test.ndexbio.org', uuid='9412e430-02f1-11e8-bd69-0660b7976219')\n",
    "G = ddot.NdexGraph_to_nx(G_ndex)\n",
    "gene_network_data = ddot.nx_edges_to_pandas(G)\n",
    "gene_network_data.index.names = ['Gene1', 'Gene2']\n",
    "gene_network_data.reset_index(inplace=True)\n",
    "gene_network_data['RandomForest integrated similarity'] = [sim.loc[g1, g2] for g1, g2 in zip(gene_network_data['Gene1'], gene_network_data['Gene2'])]\n",
    "gene_network_data.head()"
   ]
  },
  {
   "cell_type": "code",
   "execution_count": null,
   "metadata": {
    "ExecuteTime": {
     "end_time": "2018-06-08T19:50:50.218437Z",
     "start_time": "2018-06-08T19:50:10.126864Z"
    },
    "nbpresent": {
     "id": "341bae67-0f64-4c00-957b-3e49c8c135b0"
    }
   },
   "outputs": [],
   "source": [
    "# Upload ontology to NDEx\n",
    "ndex_url, G = ont.to_ndex(\n",
    "    name='Fanconi Anemia Gene Ontology',\n",
    "    description='Generated with the Data-driven Ontology Toolkit (https://github.com/michaelkyu/ddot)',\n",
    "    ndex_server=ndex_server,\n",
    "    ndex_user=ndex_user,\n",
    "    ndex_pass=ndex_pass,\n",
    "    visibility='PUBLIC',\n",
    "    layout='bubble-collect',\n",
    "    network=gene_network_data,\n",
    "    main_feature='RandomForest integrated similarity',\n",
    ")\n",
    "\n",
    "print('Go to http://hiview.ucsd.edu in your web browser')\n",
    "print('Enter this into the \"NDEx Sever URL\" field: %s' % ndex_url.split('ndexbio.org')[0] + 'ndexbio.org')\n",
    "print('Enter this into the \"UUID of the main hierarchy\" field: %s' % ndex_url.split('/')[-1])"
   ]
  }
 ],
 "metadata": {
  "kernelspec": {
   "display_name": "Python 3",
   "language": "python",
   "name": "python3"
  },
  "language_info": {
   "codemirror_mode": {
    "name": "ipython",
    "version": 3
   },
   "file_extension": ".py",
   "mimetype": "text/x-python",
   "name": "python",
   "nbconvert_exporter": "python",
   "pygments_lexer": "ipython3",
   "version": "3.6.6"
  },
  "latex_envs": {
   "LaTeX_envs_menu_present": true,
   "autocomplete": true,
   "bibliofile": "biblio.bib",
   "cite_by": "apalike",
   "current_citInitial": 1,
   "eqLabelWithNumbers": true,
   "eqNumInitial": 1,
   "hotkeys": {
    "equation": "Ctrl-E",
    "itemize": "Ctrl-I"
   },
   "labels_anchors": false,
   "latex_user_defs": false,
   "report_style_numbering": false,
   "user_envs_cfg": false
  },
  "toc": {
   "colors": {
    "hover_highlight": "#DAA520",
    "navigate_num": "#000000",
    "navigate_text": "#333333",
    "running_highlight": "#FF0000",
    "selected_highlight": "#FFD700",
    "sidebar_border": "#EEEEEE",
    "wrapper_background": "#FFFFFF"
   },
   "moveMenuLeft": true,
   "nav_menu": {
    "height": "225px",
    "width": "252px"
   },
   "navigate_menu": true,
   "number_sections": true,
   "sideBar": true,
   "threshold": 4,
   "toc_cell": false,
   "toc_position": {
    "height": "690px",
    "left": "0px",
    "right": "1414.04px",
    "top": "108px",
    "width": "330px"
   },
   "toc_section_display": "block",
   "toc_window_display": false,
   "widenNotebook": false
  }
 },
 "nbformat": 4,
 "nbformat_minor": 2
}

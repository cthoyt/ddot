{
 "cells": [
  {
   "cell_type": "markdown",
   "metadata": {},
   "source": [
    "# Introduction: DDOT tutorial\n",
    "\n",
    "* __What is an ontology?__ An ontology is a hierarchical arrangement of two types of nodes: (1)\n",
    "genes at the leaves of the hierarchy and (2) terms at intermediate\n",
    "levels of the hierarchy. The hierarchy can be thought of as directed\n",
    "acyclic graph (DAG), in which each node can have multiple children or\n",
    "multiple parent nodes. DAGs are a generalization of trees\n",
    "(a.k.a. dendogram), where each node has at most one parent.\n",
    "\n",
    "* __What is DDOT?__ The DDOT Python package provides many functions for assembling,\n",
    "analyzing, and visualizing ontologies.  The main functionalities are\n",
    "implemented in an object-oriented manner by an \"Ontology\" class, which handles ontologies that are data-driven as well as those\n",
    "that are manually curated like the Gene Ontology.\n",
    "\n",
    "* __What to do after reading this tutorial__ Check out a complete list of functions in the [Ontology class](http://ddot.readthedocs.io/en/latest/ontology.html) and a list of [utility functions](http://ddot.readthedocs.io/en/latest/utils.html) that may help you build more concise pipelines. Also check out [example Jupyter notebooks](https://github.com/michaelkyu/ddot/tree/master/examples) that contain pipelines for downloading and processing the Gene Ontology and for inferring data-driven gene ontologies of diseases"
   ]
  },
  {
   "cell_type": "code",
   "execution_count": 1,
   "metadata": {
    "ExecuteTime": {
     "end_time": "2018-06-08T19:50:22.125120Z",
     "start_time": "2018-06-08T19:50:12.040865Z"
    }
   },
   "outputs": [],
   "source": [
    "import os\n",
    "\n",
    "import ddot\n",
    "import numpy as np\n",
    "import pandas as pd\n",
    "\n",
    "from ddot import Ontology"
   ]
  },
  {
   "cell_type": "markdown",
   "metadata": {},
   "source": [
    "# Creating an Ontology object\n",
    "\n",
    "* An object of the Ontology class can be created in several ways.\n",
    "* In this tutorial, we will construct and analyze the toy ontology shown below.\n",
    "\n",
    "<img src=\"https://raw.githubusercontent.com/michaelkyu/ddot/master/docs/toy_ontology.png\" height=\"250\" align=\"left\">"
   ]
  },
  {
   "cell_type": "markdown",
   "metadata": {},
   "source": [
    "## Create ontology through the `__init__` constructor"
   ]
  },
  {
   "cell_type": "code",
   "execution_count": 2,
   "metadata": {
    "ExecuteTime": {
     "end_time": "2018-06-08T19:50:22.141694Z",
     "start_time": "2018-06-08T19:50:22.127811Z"
    }
   },
   "outputs": [
    {
     "name": "stdout",
     "output_type": "stream",
     "text": [
      "8 genes, 7 terms, 9 gene-term relations, 7 term-term relations\n",
      "node_attributes: []\n",
      "edge_attributes: []\n"
     ]
    }
   ],
   "source": [
    "# Connections from child terms to parent terms\n",
    "hierarchy = [('S3', 'S1'),\n",
    "             ('S4', 'S1'),\n",
    "             ('S5', 'S1'),\n",
    "             ('S5', 'S2'),\n",
    "             ('S6', 'S2'),\n",
    "             ('S1', 'S0'),\n",
    "             ('S2', 'S0')]\n",
    "\n",
    "# Connections from genes to terms\n",
    "mapping = [('A', 'S3'),\n",
    "           ('B', 'S3'),\n",
    "           ('C', 'S3'),\n",
    "           ('C', 'S4'),\n",
    "           ('D', 'S4'),\n",
    "           ('E', 'S5'),\n",
    "           ('F', 'S5'),\n",
    "           ('G', 'S6'),\n",
    "           ('H', 'S6')]\n",
    "\n",
    "# Construct ontology\n",
    "ont = Ontology(hierarchy, mapping)\n",
    "\n",
    "# Prints a summary of the ontology's structure\n",
    "print(ont)"
   ]
  },
  {
   "cell_type": "markdown",
   "metadata": {},
   "source": [
    "## Create an ontology from a tab-delimited table or Pandas dataframe"
   ]
  },
  {
   "cell_type": "code",
   "execution_count": 3,
   "metadata": {
    "ExecuteTime": {
     "end_time": "2018-06-08T19:50:22.237798Z",
     "start_time": "2018-06-08T19:50:22.143911Z"
    }
   },
   "outputs": [
    {
     "data": {
      "text/html": [
       "<div>\n",
       "<style scoped>\n",
       "    .dataframe tbody tr th:only-of-type {\n",
       "        vertical-align: middle;\n",
       "    }\n",
       "\n",
       "    .dataframe tbody tr th {\n",
       "        vertical-align: top;\n",
       "    }\n",
       "\n",
       "    .dataframe thead th {\n",
       "        text-align: right;\n",
       "    }\n",
       "</style>\n",
       "<table border=\"1\" class=\"dataframe\">\n",
       "  <thead>\n",
       "    <tr style=\"text-align: right;\">\n",
       "      <th></th>\n",
       "      <th>Parent</th>\n",
       "      <th>Child</th>\n",
       "      <th>EdgeType</th>\n",
       "    </tr>\n",
       "  </thead>\n",
       "  <tbody>\n",
       "    <tr>\n",
       "      <th>0</th>\n",
       "      <td>S0</td>\n",
       "      <td>S1</td>\n",
       "      <td>Child-Parent</td>\n",
       "    </tr>\n",
       "    <tr>\n",
       "      <th>1</th>\n",
       "      <td>S0</td>\n",
       "      <td>S2</td>\n",
       "      <td>Child-Parent</td>\n",
       "    </tr>\n",
       "    <tr>\n",
       "      <th>2</th>\n",
       "      <td>S1</td>\n",
       "      <td>S3</td>\n",
       "      <td>Child-Parent</td>\n",
       "    </tr>\n",
       "    <tr>\n",
       "      <th>3</th>\n",
       "      <td>S1</td>\n",
       "      <td>S4</td>\n",
       "      <td>Child-Parent</td>\n",
       "    </tr>\n",
       "    <tr>\n",
       "      <th>4</th>\n",
       "      <td>S1</td>\n",
       "      <td>S5</td>\n",
       "      <td>Child-Parent</td>\n",
       "    </tr>\n",
       "    <tr>\n",
       "      <th>5</th>\n",
       "      <td>S2</td>\n",
       "      <td>S5</td>\n",
       "      <td>Child-Parent</td>\n",
       "    </tr>\n",
       "    <tr>\n",
       "      <th>6</th>\n",
       "      <td>S2</td>\n",
       "      <td>S6</td>\n",
       "      <td>Child-Parent</td>\n",
       "    </tr>\n",
       "    <tr>\n",
       "      <th>7</th>\n",
       "      <td>S3</td>\n",
       "      <td>A</td>\n",
       "      <td>Gene-Term</td>\n",
       "    </tr>\n",
       "    <tr>\n",
       "      <th>8</th>\n",
       "      <td>S3</td>\n",
       "      <td>B</td>\n",
       "      <td>Gene-Term</td>\n",
       "    </tr>\n",
       "    <tr>\n",
       "      <th>9</th>\n",
       "      <td>S3</td>\n",
       "      <td>C</td>\n",
       "      <td>Gene-Term</td>\n",
       "    </tr>\n",
       "    <tr>\n",
       "      <th>10</th>\n",
       "      <td>S4</td>\n",
       "      <td>C</td>\n",
       "      <td>Gene-Term</td>\n",
       "    </tr>\n",
       "    <tr>\n",
       "      <th>11</th>\n",
       "      <td>S4</td>\n",
       "      <td>D</td>\n",
       "      <td>Gene-Term</td>\n",
       "    </tr>\n",
       "    <tr>\n",
       "      <th>12</th>\n",
       "      <td>S5</td>\n",
       "      <td>E</td>\n",
       "      <td>Gene-Term</td>\n",
       "    </tr>\n",
       "    <tr>\n",
       "      <th>13</th>\n",
       "      <td>S5</td>\n",
       "      <td>F</td>\n",
       "      <td>Gene-Term</td>\n",
       "    </tr>\n",
       "    <tr>\n",
       "      <th>14</th>\n",
       "      <td>S6</td>\n",
       "      <td>G</td>\n",
       "      <td>Gene-Term</td>\n",
       "    </tr>\n",
       "    <tr>\n",
       "      <th>15</th>\n",
       "      <td>S6</td>\n",
       "      <td>H</td>\n",
       "      <td>Gene-Term</td>\n",
       "    </tr>\n",
       "  </tbody>\n",
       "</table>\n",
       "</div>"
      ],
      "text/plain": [
       "   Parent Child      EdgeType\n",
       "0      S0    S1  Child-Parent\n",
       "1      S0    S2  Child-Parent\n",
       "2      S1    S3  Child-Parent\n",
       "3      S1    S4  Child-Parent\n",
       "4      S1    S5  Child-Parent\n",
       "5      S2    S5  Child-Parent\n",
       "6      S2    S6  Child-Parent\n",
       "7      S3     A     Gene-Term\n",
       "8      S3     B     Gene-Term\n",
       "9      S3     C     Gene-Term\n",
       "10     S4     C     Gene-Term\n",
       "11     S4     D     Gene-Term\n",
       "12     S5     E     Gene-Term\n",
       "13     S5     F     Gene-Term\n",
       "14     S6     G     Gene-Term\n",
       "15     S6     H     Gene-Term"
      ]
     },
     "execution_count": 3,
     "metadata": {},
     "output_type": "execute_result"
    }
   ],
   "source": [
    "# Write ontology to a tab-delimited table\n",
    "ont.to_table('toy_ontology.txt')"
   ]
  },
  {
   "cell_type": "code",
   "execution_count": 4,
   "metadata": {
    "ExecuteTime": {
     "end_time": "2018-06-08T19:50:22.288616Z",
     "start_time": "2018-06-08T19:50:22.240030Z"
    }
   },
   "outputs": [
    {
     "data": {
      "text/plain": [
       "8 genes, 7 terms, 9 gene-term relations, 7 term-term relations\n",
       "node_attributes: []\n",
       "edge_attributes: []"
      ]
     },
     "execution_count": 4,
     "metadata": {},
     "output_type": "execute_result"
    }
   ],
   "source": [
    "# Reconstruct the ontology from the table\n",
    "Ontology.from_table('toy_ontology.txt')"
   ]
  },
  {
   "cell_type": "markdown",
   "metadata": {},
   "source": [
    "## Create an Ontology from the Network Data Exchange (NDEx)\n",
    "* It is strongly recommended that you create a free account on NDEx in order to keep track of your own ontologies.\n",
    "* Note that there are two NDEx servers: the main one at http://ndexbio.org/ and a test server for prototyping your code at http://test.ndexbio.org. Each server requires a separate user account. While you get familiar with DDOT, we recommend that you use an account on the test server."
   ]
  },
  {
   "cell_type": "markdown",
   "metadata": {
    "ExecuteTime": {
     "end_time": "2018-06-08T19:50:22.293798Z",
     "start_time": "2018-06-08T19:50:22.290708Z"
    }
   },
   "source": [
    "Set the NDEx server and the user account.\n",
    "\n",
    "This \"scratch\" account will work for this tutorial, but you should replace it with your own account."
   ]
  },
  {
   "cell_type": "code",
   "execution_count": 5,
   "metadata": {
    "ExecuteTime": {
     "end_time": "2018-06-08T19:50:22.293798Z",
     "start_time": "2018-06-08T19:50:22.290708Z"
    }
   },
   "outputs": [],
   "source": [
    "ndex_server = os.environ.get('NDEX_SERVER',   default='http://ndexbio.org')\n",
    "ndex_user   = os.environ.get('NDEX_USERNAME', default='scratch')\n",
    "ndex_pass   = os.environ.get('NDEX_PASSWORD', default='scratch')"
   ]
  },
  {
   "cell_type": "markdown",
   "metadata": {
    "ExecuteTime": {
     "end_time": "2018-06-08T19:50:23.310022Z",
     "start_time": "2018-06-08T19:50:22.296139Z"
    }
   },
   "source": [
    "Upload ontology to NDEx. The string after \"v2/network/\" is a unique identifier, \n",
    "which is called the UUID, of the ontology in NDEx"
   ]
  },
  {
   "cell_type": "code",
   "execution_count": 6,
   "metadata": {
    "ExecuteTime": {
     "end_time": "2018-06-08T19:50:23.310022Z",
     "start_time": "2018-06-08T19:50:22.296139Z"
    }
   },
   "outputs": [
    {
     "name": "stdout",
     "output_type": "stream",
     "text": [
      "\n",
      "http://public.ndexbio.org/v2/network/929ba072-d861-11e8-aaa6-0ac135e8bacf\n"
     ]
    }
   ],
   "source": [
    "url, _ = ont.to_ndex(\n",
    "    ndex_user=ndex_user, \n",
    "    ndex_pass=ndex_pass,\n",
    "    ndex_server=ndex_server,\n",
    ")\n",
    "print(url)"
   ]
  },
  {
   "cell_type": "code",
   "execution_count": 7,
   "metadata": {
    "ExecuteTime": {
     "end_time": "2018-06-08T19:50:23.516353Z",
     "start_time": "2018-06-08T19:50:23.311660Z"
    }
   },
   "outputs": [
    {
     "name": "stdout",
     "output_type": "stream",
     "text": [
      "\n",
      "8 genes, 7 terms, 9 gene-term relations, 7 term-term relations\n",
      "node_attributes: ['Vis:Fill Color', 'Vis:Border Paint', 'Vis:Size', 'Vis:Shape', 'name']\n",
      "edge_attributes: ['Vis:Visible']\n"
     ]
    }
   ],
   "source": [
    "# Download the ontology from NDEx\n",
    "ont2 = Ontology.from_ndex(url)\n",
    "print(ont2)"
   ]
  },
  {
   "cell_type": "markdown",
   "metadata": {},
   "source": [
    "# Inspecting the structure of an ontology"
   ]
  },
  {
   "cell_type": "markdown",
   "metadata": {},
   "source": [
    "An Ontology object contains seven attributes:\n",
    "\n",
    "* ``genes`` : List of gene names\n",
    "* ``terms`` : List of term names\n",
    "* ``gene_2_term`` : dictionary mapping a gene name to a list of terms connected to that gene. Terms are represented as their 0-based index in ``terms``.\n",
    "* ``term_2_gene`` : dictionary mapping a term name to a list or genes connected to that term. Genes are represented as their 0-based index in ``genes``.\n",
    "* ``child_2_parent`` : dictionary mapping a child term to its parent terms.\n",
    "* ``parent_2_child`` : dictionary mapping a parent term to its children terms.\n",
    "* ``term_sizes`` : A list of each term's size, i.e. the number of unique genes contained within this term and its descendants. The order of this list is the same as ``terms``. For every ``i``, it holds that ``term_sizes[i] = len(self.term_2_gene[self.terms[i]])``"
   ]
  },
  {
   "cell_type": "code",
   "execution_count": 8,
   "metadata": {
    "ExecuteTime": {
     "end_time": "2018-06-08T19:50:23.521665Z",
     "start_time": "2018-06-08T19:50:23.517875Z"
    }
   },
   "outputs": [
    {
     "data": {
      "text/plain": [
       "['A', 'B', 'C', 'D', 'E', 'F', 'G', 'H']"
      ]
     },
     "execution_count": 8,
     "metadata": {},
     "output_type": "execute_result"
    }
   ],
   "source": [
    "ont.genes"
   ]
  },
  {
   "cell_type": "code",
   "execution_count": 9,
   "metadata": {
    "ExecuteTime": {
     "end_time": "2018-06-08T19:50:23.527334Z",
     "start_time": "2018-06-08T19:50:23.523090Z"
    }
   },
   "outputs": [
    {
     "data": {
      "text/plain": [
       "['S0', 'S1', 'S2', 'S3', 'S4', 'S5', 'S6']"
      ]
     },
     "execution_count": 9,
     "metadata": {},
     "output_type": "execute_result"
    }
   ],
   "source": [
    "ont.terms"
   ]
  },
  {
   "cell_type": "code",
   "execution_count": 10,
   "metadata": {
    "ExecuteTime": {
     "end_time": "2018-06-08T19:50:23.534195Z",
     "start_time": "2018-06-08T19:50:23.529397Z"
    }
   },
   "outputs": [
    {
     "data": {
      "text/plain": [
       "{'A': [3],\n",
       " 'B': [3],\n",
       " 'C': [3, 4],\n",
       " 'D': [4],\n",
       " 'E': [5],\n",
       " 'F': [5],\n",
       " 'G': [6],\n",
       " 'H': [6]}"
      ]
     },
     "execution_count": 10,
     "metadata": {},
     "output_type": "execute_result"
    }
   ],
   "source": [
    "ont.gene_2_term"
   ]
  },
  {
   "cell_type": "code",
   "execution_count": 11,
   "metadata": {
    "ExecuteTime": {
     "end_time": "2018-06-08T19:50:23.540745Z",
     "start_time": "2018-06-08T19:50:23.536267Z"
    }
   },
   "outputs": [
    {
     "data": {
      "text/plain": [
       "{'S3': [0, 1, 2],\n",
       " 'S4': [2, 3],\n",
       " 'S5': [4, 5],\n",
       " 'S6': [6, 7],\n",
       " 'S0': [],\n",
       " 'S1': [],\n",
       " 'S2': []}"
      ]
     },
     "execution_count": 11,
     "metadata": {},
     "output_type": "execute_result"
    }
   ],
   "source": [
    "ont.term_2_gene"
   ]
  },
  {
   "cell_type": "code",
   "execution_count": 12,
   "metadata": {
    "ExecuteTime": {
     "end_time": "2018-06-08T19:50:23.547034Z",
     "start_time": "2018-06-08T19:50:23.542702Z"
    }
   },
   "outputs": [
    {
     "data": {
      "text/plain": [
       "{'S1': ['S0'],\n",
       " 'S2': ['S0'],\n",
       " 'S3': ['S1'],\n",
       " 'S4': ['S1'],\n",
       " 'S5': ['S1', 'S2'],\n",
       " 'S6': ['S2'],\n",
       " 'S0': []}"
      ]
     },
     "execution_count": 12,
     "metadata": {},
     "output_type": "execute_result"
    }
   ],
   "source": [
    "ont.child_2_parent"
   ]
  },
  {
   "cell_type": "code",
   "execution_count": 13,
   "metadata": {
    "ExecuteTime": {
     "end_time": "2018-06-08T19:50:23.553218Z",
     "start_time": "2018-06-08T19:50:23.548916Z"
    }
   },
   "outputs": [
    {
     "data": {
      "text/plain": [
       "{'S0': ['S1', 'S2'],\n",
       " 'S1': ['S3', 'S4', 'S5'],\n",
       " 'S2': ['S5', 'S6'],\n",
       " 'S3': [],\n",
       " 'S4': [],\n",
       " 'S5': [],\n",
       " 'S6': []}"
      ]
     },
     "execution_count": 13,
     "metadata": {},
     "output_type": "execute_result"
    }
   ],
   "source": [
    "ont.parent_2_child"
   ]
  },
  {
   "cell_type": "markdown",
   "metadata": {},
   "source": [
    "Alternatively, the hierarchical connections can be viewed as a binary matrix, using `Ontology.connected()`"
   ]
  },
  {
   "cell_type": "code",
   "execution_count": 14,
   "metadata": {
    "ExecuteTime": {
     "end_time": "2018-06-08T19:50:23.562493Z",
     "start_time": "2018-06-08T19:50:23.555114Z"
    }
   },
   "outputs": [
    {
     "data": {
      "text/plain": [
       "array([[1, 0, 0, 0, 0, 0, 0, 0, 1, 1, 0, 1, 0, 0, 0],\n",
       "       [0, 1, 0, 0, 0, 0, 0, 0, 1, 1, 0, 1, 0, 0, 0],\n",
       "       [0, 0, 1, 0, 0, 0, 0, 0, 1, 1, 0, 1, 1, 0, 0],\n",
       "       [0, 0, 0, 1, 0, 0, 0, 0, 1, 1, 0, 0, 1, 0, 0],\n",
       "       [0, 0, 0, 0, 1, 0, 0, 0, 1, 1, 1, 0, 0, 1, 0],\n",
       "       [0, 0, 0, 0, 0, 1, 0, 0, 1, 1, 1, 0, 0, 1, 0],\n",
       "       [0, 0, 0, 0, 0, 0, 1, 0, 1, 0, 1, 0, 0, 0, 1],\n",
       "       [0, 0, 0, 0, 0, 0, 0, 1, 1, 0, 1, 0, 0, 0, 1],\n",
       "       [0, 0, 0, 0, 0, 0, 0, 0, 1, 0, 0, 0, 0, 0, 0],\n",
       "       [0, 0, 0, 0, 0, 0, 0, 0, 1, 1, 0, 0, 0, 0, 0],\n",
       "       [0, 0, 0, 0, 0, 0, 0, 0, 1, 0, 1, 0, 0, 0, 0],\n",
       "       [0, 0, 0, 0, 0, 0, 0, 0, 1, 1, 0, 1, 0, 0, 0],\n",
       "       [0, 0, 0, 0, 0, 0, 0, 0, 1, 1, 0, 0, 1, 0, 0],\n",
       "       [0, 0, 0, 0, 0, 0, 0, 0, 1, 1, 1, 0, 0, 1, 0],\n",
       "       [0, 0, 0, 0, 0, 0, 0, 0, 1, 0, 1, 0, 0, 0, 1]], dtype=int32)"
      ]
     },
     "execution_count": 14,
     "metadata": {},
     "output_type": "execute_result"
    }
   ],
   "source": [
    "conn = ont.connected()\n",
    "np.array(conn, dtype=np.int32)"
   ]
  },
  {
   "cell_type": "markdown",
   "metadata": {
    "ExecuteTime": {
     "end_time": "2018-04-01T21:12:33.941513Z",
     "start_time": "2018-04-01T21:12:33.132850Z"
    }
   },
   "source": [
    "A summary of an Ontology’s object, i.e. the number of genes, terms, and connections, can be printed `print(ont)`"
   ]
  },
  {
   "cell_type": "code",
   "execution_count": 15,
   "metadata": {
    "ExecuteTime": {
     "end_time": "2018-06-08T19:50:23.566804Z",
     "start_time": "2018-06-08T19:50:23.564265Z"
    }
   },
   "outputs": [
    {
     "name": "stdout",
     "output_type": "stream",
     "text": [
      "8 genes, 7 terms, 9 gene-term relations, 7 term-term relations\n",
      "node_attributes: []\n",
      "edge_attributes: []\n"
     ]
    }
   ],
   "source": [
    "print(ont)"
   ]
  },
  {
   "cell_type": "markdown",
   "metadata": {},
   "source": [
    "# Manipulating the structure of an ontology"
   ]
  },
  {
   "cell_type": "markdown",
   "metadata": {},
   "source": [
    "DDOT provides several convenience functions for processing Ontologies into a desirable structure. Currently, there are no functions for adding genes and terms. If this is needed, then we recommend creating a new Ontology or manipulating the contents in a different library, such as NetworkX or igraph, and transforming the results into Ontology."
   ]
  },
  {
   "cell_type": "markdown",
   "metadata": {},
   "source": [
    "### Renaming nodes"
   ]
  },
  {
   "cell_type": "code",
   "execution_count": 16,
   "metadata": {
    "ExecuteTime": {
     "end_time": "2018-06-08T19:50:23.594781Z",
     "start_time": "2018-06-08T19:50:23.568682Z"
    }
   },
   "outputs": [
    {
     "data": {
      "text/html": [
       "<div>\n",
       "<style scoped>\n",
       "    .dataframe tbody tr th:only-of-type {\n",
       "        vertical-align: middle;\n",
       "    }\n",
       "\n",
       "    .dataframe tbody tr th {\n",
       "        vertical-align: top;\n",
       "    }\n",
       "\n",
       "    .dataframe thead th {\n",
       "        text-align: right;\n",
       "    }\n",
       "</style>\n",
       "<table border=\"1\" class=\"dataframe\">\n",
       "  <thead>\n",
       "    <tr style=\"text-align: right;\">\n",
       "      <th></th>\n",
       "      <th>Parent</th>\n",
       "      <th>Child</th>\n",
       "      <th>EdgeType</th>\n",
       "    </tr>\n",
       "  </thead>\n",
       "  <tbody>\n",
       "    <tr>\n",
       "      <th>0</th>\n",
       "      <td>S0_alias</td>\n",
       "      <td>S1</td>\n",
       "      <td>Child-Parent</td>\n",
       "    </tr>\n",
       "    <tr>\n",
       "      <th>1</th>\n",
       "      <td>S0_alias</td>\n",
       "      <td>S2</td>\n",
       "      <td>Child-Parent</td>\n",
       "    </tr>\n",
       "    <tr>\n",
       "      <th>2</th>\n",
       "      <td>S1</td>\n",
       "      <td>S3</td>\n",
       "      <td>Child-Parent</td>\n",
       "    </tr>\n",
       "    <tr>\n",
       "      <th>3</th>\n",
       "      <td>S1</td>\n",
       "      <td>S4</td>\n",
       "      <td>Child-Parent</td>\n",
       "    </tr>\n",
       "    <tr>\n",
       "      <th>4</th>\n",
       "      <td>S1</td>\n",
       "      <td>S5</td>\n",
       "      <td>Child-Parent</td>\n",
       "    </tr>\n",
       "    <tr>\n",
       "      <th>5</th>\n",
       "      <td>S2</td>\n",
       "      <td>S5</td>\n",
       "      <td>Child-Parent</td>\n",
       "    </tr>\n",
       "    <tr>\n",
       "      <th>6</th>\n",
       "      <td>S2</td>\n",
       "      <td>S6</td>\n",
       "      <td>Child-Parent</td>\n",
       "    </tr>\n",
       "    <tr>\n",
       "      <th>7</th>\n",
       "      <td>S3</td>\n",
       "      <td>A_alias</td>\n",
       "      <td>Gene-Term</td>\n",
       "    </tr>\n",
       "    <tr>\n",
       "      <th>8</th>\n",
       "      <td>S3</td>\n",
       "      <td>B</td>\n",
       "      <td>Gene-Term</td>\n",
       "    </tr>\n",
       "    <tr>\n",
       "      <th>9</th>\n",
       "      <td>S3</td>\n",
       "      <td>C</td>\n",
       "      <td>Gene-Term</td>\n",
       "    </tr>\n",
       "    <tr>\n",
       "      <th>10</th>\n",
       "      <td>S4</td>\n",
       "      <td>C</td>\n",
       "      <td>Gene-Term</td>\n",
       "    </tr>\n",
       "    <tr>\n",
       "      <th>11</th>\n",
       "      <td>S4</td>\n",
       "      <td>D</td>\n",
       "      <td>Gene-Term</td>\n",
       "    </tr>\n",
       "    <tr>\n",
       "      <th>12</th>\n",
       "      <td>S5</td>\n",
       "      <td>E</td>\n",
       "      <td>Gene-Term</td>\n",
       "    </tr>\n",
       "    <tr>\n",
       "      <th>13</th>\n",
       "      <td>S5</td>\n",
       "      <td>F</td>\n",
       "      <td>Gene-Term</td>\n",
       "    </tr>\n",
       "    <tr>\n",
       "      <th>14</th>\n",
       "      <td>S6</td>\n",
       "      <td>G</td>\n",
       "      <td>Gene-Term</td>\n",
       "    </tr>\n",
       "    <tr>\n",
       "      <th>15</th>\n",
       "      <td>S6</td>\n",
       "      <td>H</td>\n",
       "      <td>Gene-Term</td>\n",
       "    </tr>\n",
       "  </tbody>\n",
       "</table>\n",
       "</div>"
      ],
      "text/plain": [
       "      Parent    Child      EdgeType\n",
       "0   S0_alias       S1  Child-Parent\n",
       "1   S0_alias       S2  Child-Parent\n",
       "2         S1       S3  Child-Parent\n",
       "3         S1       S4  Child-Parent\n",
       "4         S1       S5  Child-Parent\n",
       "5         S2       S5  Child-Parent\n",
       "6         S2       S6  Child-Parent\n",
       "7         S3  A_alias     Gene-Term\n",
       "8         S3        B     Gene-Term\n",
       "9         S3        C     Gene-Term\n",
       "10        S4        C     Gene-Term\n",
       "11        S4        D     Gene-Term\n",
       "12        S5        E     Gene-Term\n",
       "13        S5        F     Gene-Term\n",
       "14        S6        G     Gene-Term\n",
       "15        S6        H     Gene-Term"
      ]
     },
     "execution_count": 16,
     "metadata": {},
     "output_type": "execute_result"
    }
   ],
   "source": [
    "# Renaming genes and terms.\n",
    "ont2 = ont.rename(genes={'A' : 'A_alias'}, terms={'S0':'S0_alias'})\n",
    "ont2.to_table()"
   ]
  },
  {
   "cell_type": "markdown",
   "metadata": {},
   "source": [
    "### Delete S1 and G while preserving transitive connections\n",
    "\n",
    "<img src=\"https://raw.githubusercontent.com/michaelkyu/ddot/master/docs/toy_ontology_delete_transitive.png\" height=\"250\" align=\"left\">"
   ]
  },
  {
   "cell_type": "code",
   "execution_count": 17,
   "metadata": {
    "ExecuteTime": {
     "end_time": "2018-06-08T19:50:23.601417Z",
     "start_time": "2018-06-08T19:50:23.596511Z"
    }
   },
   "outputs": [
    {
     "name": "stdout",
     "output_type": "stream",
     "text": [
      "7 genes, 6 terms, 8 gene-term relations, 6 term-term relations\n",
      "node_attributes: []\n",
      "edge_attributes: []\n"
     ]
    }
   ],
   "source": [
    "ont2 = ont.delete(to_delete=['S1', 'G'])\n",
    "print(ont2)"
   ]
  },
  {
   "cell_type": "markdown",
   "metadata": {
    "ExecuteTime": {
     "end_time": "2018-04-01T19:15:12.279137Z",
     "start_time": "2018-04-01T19:15:11.004604Z"
    }
   },
   "source": [
    "### Delete S1 and G (don't preserve transitive connections)\n",
    "\n",
    "<img src=\"https://raw.githubusercontent.com/michaelkyu/ddot/master/docs/toy_ontology_delete_not_transitive.png\" height=\"250\" align=\"left\">"
   ]
  },
  {
   "cell_type": "code",
   "execution_count": 18,
   "metadata": {
    "ExecuteTime": {
     "end_time": "2018-06-08T19:50:23.607685Z",
     "start_time": "2018-06-08T19:50:23.603062Z"
    }
   },
   "outputs": [
    {
     "name": "stdout",
     "output_type": "stream",
     "text": [
      "7 genes, 6 terms, 8 gene-term relations, 3 term-term relations\n",
      "node_attributes: []\n",
      "edge_attributes: []\n"
     ]
    }
   ],
   "source": [
    "ont2 = ont.delete(to_delete=['S1', 'G'], preserve_transitivity=False)\n",
    "print(ont2)"
   ]
  },
  {
   "cell_type": "markdown",
   "metadata": {},
   "source": [
    "### Propagate gene-term connections\n",
    "\n",
    "* Often times, it is convenient to explicitly include all transitive connections in the hierarchy. That is, if a hierarchy has edges A-->B and B-->C, then the hierarchy also has A-->C. This can be done by calling `Ontology.propagate(direction='forward')` function.\n",
    "\n",
    "* On the other hand, all transitive connections can be removed with `Ontology.propagate(direction='reverse')`. This is useful as a parsimonious set of connections.\n",
    "\n",
    "\n",
    "<img src=\"https://raw.githubusercontent.com/michaelkyu/ddot/master/docs/toy_ontology_propagate_gene_term.png\" height=\"250\" align=\"left\">"
   ]
  },
  {
   "cell_type": "code",
   "execution_count": 19,
   "metadata": {
    "ExecuteTime": {
     "end_time": "2018-06-08T19:50:23.619526Z",
     "start_time": "2018-06-08T19:50:23.609276Z"
    }
   },
   "outputs": [
    {
     "name": "stdout",
     "output_type": "stream",
     "text": [
      "8 genes, 7 terms, 27 gene-term relations, 7 term-term relations\n",
      "node_attributes: []\n",
      "edge_attributes: []\n",
      "8 genes, 7 terms, 9 gene-term relations, 7 term-term relations\n",
      "node_attributes: []\n",
      "edge_attributes: []\n"
     ]
    }
   ],
   "source": [
    "# Include all transitive connections between genes and terms\n",
    "ont2 = ont.propagate(direction='forward', gene_term=True, term_term=False)\n",
    "print(ont2)\n",
    "\n",
    "# Remove all transitive connections between genes and terms, retaining only a parsimonious set of connections\n",
    "ont3 = ont2.propagate(direction='reverse', gene_term=True, term_term=False)\n",
    "print(ont3)"
   ]
  },
  {
   "cell_type": "markdown",
   "metadata": {},
   "source": [
    "### Propagate term-term connections\n",
    "\n",
    "<img src=\"https://raw.githubusercontent.com/michaelkyu/ddot/master/docs/toy_ontology_propagate_term_term.png\" height=\"250\" align=\"left\">"
   ]
  },
  {
   "cell_type": "code",
   "execution_count": 20,
   "metadata": {
    "ExecuteTime": {
     "end_time": "2018-06-08T19:50:23.631029Z",
     "start_time": "2018-06-08T19:50:23.621149Z"
    }
   },
   "outputs": [
    {
     "name": "stdout",
     "output_type": "stream",
     "text": [
      "8 genes, 7 terms, 9 gene-term relations, 11 term-term relations\n",
      "node_attributes: []\n",
      "edge_attributes: []\n",
      "8 genes, 7 terms, 9 gene-term relations, 7 term-term relations\n",
      "node_attributes: []\n",
      "edge_attributes: []\n"
     ]
    }
   ],
   "source": [
    "# Include all transitive connections between terms\n",
    "ont2 = ont.propagate(direction='forward', gene_term=False, term_term=True)\n",
    "print(ont2)\n",
    "\n",
    "# Remove all transitive connections between terms, retaining only a parsimonious set of connections\n",
    "ont3 = ont2.propagate(direction='reverse', gene_term=False, term_term=True)\n",
    "print(ont3)"
   ]
  },
  {
   "cell_type": "markdown",
   "metadata": {},
   "source": [
    "### Take the subbranch consisting of all term and genes under S1\n",
    "\n",
    "<img src=\"https://raw.githubusercontent.com/michaelkyu/ddot/master/docs/toy_ontology_S1.png\" height=\"250\" align=\"left\">"
   ]
  },
  {
   "cell_type": "code",
   "execution_count": 21,
   "metadata": {
    "ExecuteTime": {
     "end_time": "2018-06-08T19:50:23.662187Z",
     "start_time": "2018-06-08T19:50:23.632662Z"
    }
   },
   "outputs": [
    {
     "name": "stdout",
     "output_type": "stream",
     "text": [
      "Genes and Terms to keep: 10\n",
      "6 genes, 4 terms, 7 gene-term relations, 3 term-term relations\n",
      "node_attributes: []\n",
      "edge_attributes: []\n"
     ]
    }
   ],
   "source": [
    "ont2 = ont.focus(branches=['S1'])\n",
    "print(ont2)"
   ]
  },
  {
   "cell_type": "markdown",
   "metadata": {},
   "source": [
    "# Inferring a data-driven ontology\n",
    "\n",
    "* Given a set of genes and a gene similarity network, we can hierarchically cluster the genes to infer cellular subsystems using the CliXO algorithm. The resulting hierarchy of subsystems defines a \"data-driven gene ontology\". For more information about the CLIXO algorithm, see [Kramer, *et al.* Bioinformatics, 30(12), pp.i34-i42. 2014](https://doi.org/10.1093/bioinformatics/btu282).\n",
    "* Conversely, we can also \"flatten\" the ontology structure to infer a gene-by-gene similarity network. In particular, the similarity between two genes is calculated as the size of the smallest common subsystem, known as \"Resnik semantic similarity\".\n",
    "* The CLIXO algorithm has been designed to reconstruct the original hierarchy from the Resnik score."
   ]
  },
  {
   "cell_type": "code",
   "execution_count": 22,
   "metadata": {
    "ExecuteTime": {
     "end_time": "2018-06-08T19:50:23.676656Z",
     "start_time": "2018-06-08T19:50:23.663646Z"
    }
   },
   "outputs": [
    {
     "name": "stdout",
     "output_type": "stream",
     "text": [
      "Similarity matrix:\n",
      "[[ 1.42  1.42  1.42  0.42  0.42  0.42 -0.   -0.  ]\n",
      " [ 1.42  1.42  1.42  0.42  0.42  0.42 -0.   -0.  ]\n",
      " [ 1.42  1.42  2.    2.    0.42  0.42 -0.   -0.  ]\n",
      " [ 0.42  0.42  2.    2.    0.42  0.42 -0.   -0.  ]\n",
      " [ 0.42  0.42  0.42  0.42  2.    2.    1.    1.  ]\n",
      " [ 0.42  0.42  0.42  0.42  2.    2.    1.    1.  ]\n",
      " [-0.   -0.   -0.   -0.    1.    1.    2.    2.  ]\n",
      " [-0.   -0.   -0.   -0.    1.    1.    2.    2.  ]]\n",
      "\n",
      "Row/column names of similarity matrix:\n",
      "A B C D E F G H\n"
     ]
    }
   ],
   "source": [
    "# Flatten ontology to gene-by-gene network\n",
    "\n",
    "sim, genes = ont.flatten()\n",
    "print('Similarity matrix:')\n",
    "print(np.round(sim, 2))\n",
    "\n",
    "print('\\nRow/column names of similarity matrix:')\n",
    "print(*genes)"
   ]
  },
  {
   "cell_type": "markdown",
   "metadata": {
    "ExecuteTime": {
     "end_time": "2018-06-08T19:50:23.750234Z",
     "start_time": "2018-06-08T19:50:23.677990Z"
    }
   },
   "source": [
    "Reconstruct the ontology using the CLIXO algorithm.\n",
    "\n",
    "In general, you may feed any kind of gene-gene similarities, e.g. measurements of protein-protein interactions, gene co-expression, or genetic interactions."
   ]
  },
  {
   "cell_type": "code",
   "execution_count": 23,
   "metadata": {
    "ExecuteTime": {
     "end_time": "2018-06-08T19:50:23.750234Z",
     "start_time": "2018-06-08T19:50:23.677990Z"
    }
   },
   "outputs": [
    {
     "name": "stdout",
     "output_type": "stream",
     "text": [
      "# Loading input network graph\n",
      "# Loading input network took 0 seconds\n",
      "# Clique finding beginning\n",
      "# Adding 3 edges\n",
      "# Nodes affected = 6\n",
      "# Clusters affected = 0\n",
      "# Num deleted here: 0\n",
      "# Found 3 new clusters to add\n",
      "8 genes, 7 terms, 9 gene-term relations, 7 term-term relations\n",
      "node_attributes: []\n",
      "edge_attributes: ['CLIXO_score']\n"
     ]
    }
   ],
   "source": [
    "sim_df = pd.DataFrame(sim, index=list(genes), columns=list(genes))\n",
    "\n",
    "ont2 = Ontology.run_clixo(\n",
    "    sim_df, \n",
    "    df_output_path='df_temp.txt', \n",
    "    clixo_output_path='clixo_temp.txt', \n",
    "    output_log_path='output_log.txt',\n",
    "    alpha=0.0, \n",
    "    beta=1.0, \n",
    "    square=True, \n",
    "    square_names=genes,\n",
    ")\n",
    "print(ont2)"
   ]
  },
  {
   "cell_type": "code",
   "execution_count": 24,
   "metadata": {
    "ExecuteTime": {
     "end_time": "2018-06-08T19:50:23.771697Z",
     "start_time": "2018-06-08T19:50:23.751851Z"
    },
    "scrolled": false
   },
   "outputs": [
    {
     "data": {
      "text/html": [
       "<div>\n",
       "<style scoped>\n",
       "    .dataframe tbody tr th:only-of-type {\n",
       "        vertical-align: middle;\n",
       "    }\n",
       "\n",
       "    .dataframe tbody tr th {\n",
       "        vertical-align: top;\n",
       "    }\n",
       "\n",
       "    .dataframe thead th {\n",
       "        text-align: right;\n",
       "    }\n",
       "</style>\n",
       "<table border=\"1\" class=\"dataframe\">\n",
       "  <thead>\n",
       "    <tr style=\"text-align: right;\">\n",
       "      <th></th>\n",
       "      <th>Parent</th>\n",
       "      <th>Child</th>\n",
       "      <th>EdgeType</th>\n",
       "      <th>CLIXO_score</th>\n",
       "    </tr>\n",
       "  </thead>\n",
       "  <tbody>\n",
       "    <tr>\n",
       "      <th>0</th>\n",
       "      <td>S:12</td>\n",
       "      <td>S:8</td>\n",
       "      <td>Child-Parent</td>\n",
       "      <td>1.000000</td>\n",
       "    </tr>\n",
       "    <tr>\n",
       "      <th>1</th>\n",
       "      <td>S:12</td>\n",
       "      <td>S:9</td>\n",
       "      <td>Child-Parent</td>\n",
       "      <td>1.000000</td>\n",
       "    </tr>\n",
       "    <tr>\n",
       "      <th>2</th>\n",
       "      <td>S:13</td>\n",
       "      <td>S:9</td>\n",
       "      <td>Child-Parent</td>\n",
       "      <td>0.415038</td>\n",
       "    </tr>\n",
       "    <tr>\n",
       "      <th>3</th>\n",
       "      <td>S:13</td>\n",
       "      <td>S:10</td>\n",
       "      <td>Child-Parent</td>\n",
       "      <td>0.415038</td>\n",
       "    </tr>\n",
       "    <tr>\n",
       "      <th>4</th>\n",
       "      <td>S:13</td>\n",
       "      <td>S:11</td>\n",
       "      <td>Child-Parent</td>\n",
       "      <td>0.415038</td>\n",
       "    </tr>\n",
       "    <tr>\n",
       "      <th>5</th>\n",
       "      <td>S:14</td>\n",
       "      <td>S:12</td>\n",
       "      <td>Child-Parent</td>\n",
       "      <td>0.000000</td>\n",
       "    </tr>\n",
       "    <tr>\n",
       "      <th>6</th>\n",
       "      <td>S:14</td>\n",
       "      <td>S:13</td>\n",
       "      <td>Child-Parent</td>\n",
       "      <td>0.000000</td>\n",
       "    </tr>\n",
       "    <tr>\n",
       "      <th>7</th>\n",
       "      <td>S:11</td>\n",
       "      <td>A</td>\n",
       "      <td>Gene-Term</td>\n",
       "      <td>1.415040</td>\n",
       "    </tr>\n",
       "    <tr>\n",
       "      <th>8</th>\n",
       "      <td>S:11</td>\n",
       "      <td>B</td>\n",
       "      <td>Gene-Term</td>\n",
       "      <td>1.415040</td>\n",
       "    </tr>\n",
       "    <tr>\n",
       "      <th>9</th>\n",
       "      <td>S:11</td>\n",
       "      <td>C</td>\n",
       "      <td>Gene-Term</td>\n",
       "      <td>1.415040</td>\n",
       "    </tr>\n",
       "    <tr>\n",
       "      <th>10</th>\n",
       "      <td>S:10</td>\n",
       "      <td>C</td>\n",
       "      <td>Gene-Term</td>\n",
       "      <td>2.000000</td>\n",
       "    </tr>\n",
       "    <tr>\n",
       "      <th>11</th>\n",
       "      <td>S:10</td>\n",
       "      <td>D</td>\n",
       "      <td>Gene-Term</td>\n",
       "      <td>2.000000</td>\n",
       "    </tr>\n",
       "    <tr>\n",
       "      <th>12</th>\n",
       "      <td>S:9</td>\n",
       "      <td>E</td>\n",
       "      <td>Gene-Term</td>\n",
       "      <td>2.000000</td>\n",
       "    </tr>\n",
       "    <tr>\n",
       "      <th>13</th>\n",
       "      <td>S:9</td>\n",
       "      <td>F</td>\n",
       "      <td>Gene-Term</td>\n",
       "      <td>2.000000</td>\n",
       "    </tr>\n",
       "    <tr>\n",
       "      <th>14</th>\n",
       "      <td>S:8</td>\n",
       "      <td>G</td>\n",
       "      <td>Gene-Term</td>\n",
       "      <td>2.000000</td>\n",
       "    </tr>\n",
       "    <tr>\n",
       "      <th>15</th>\n",
       "      <td>S:8</td>\n",
       "      <td>H</td>\n",
       "      <td>Gene-Term</td>\n",
       "      <td>2.000000</td>\n",
       "    </tr>\n",
       "  </tbody>\n",
       "</table>\n",
       "</div>"
      ],
      "text/plain": [
       "   Parent Child      EdgeType  CLIXO_score\n",
       "0    S:12   S:8  Child-Parent     1.000000\n",
       "1    S:12   S:9  Child-Parent     1.000000\n",
       "2    S:13   S:9  Child-Parent     0.415038\n",
       "3    S:13  S:10  Child-Parent     0.415038\n",
       "4    S:13  S:11  Child-Parent     0.415038\n",
       "5    S:14  S:12  Child-Parent     0.000000\n",
       "6    S:14  S:13  Child-Parent     0.000000\n",
       "7    S:11     A     Gene-Term     1.415040\n",
       "8    S:11     B     Gene-Term     1.415040\n",
       "9    S:11     C     Gene-Term     1.415040\n",
       "10   S:10     C     Gene-Term     2.000000\n",
       "11   S:10     D     Gene-Term     2.000000\n",
       "12    S:9     E     Gene-Term     2.000000\n",
       "13    S:9     F     Gene-Term     2.000000\n",
       "14    S:8     G     Gene-Term     2.000000\n",
       "15    S:8     H     Gene-Term     2.000000"
      ]
     },
     "execution_count": 24,
     "metadata": {},
     "output_type": "execute_result"
    }
   ],
   "source": [
    "ont2.to_table(edge_attr=True)"
   ]
  },
  {
   "cell_type": "markdown",
   "metadata": {},
   "source": [
    "# Ontology alignment\n",
    "\n",
    "* The structures of two ontologies can be compared through a procedure known as ontology alignment. Ontology.align() implements the ontology alignment described in (Dutkowski et al. Nature biotechnology, 31(1), 2013), in which terms are matched if they contain similar sets of genes and if their parents and children terms are also similar.\n",
    "\n",
    "* Ontology alignment is particularly useful for annotating a data-driven gene ontology by aligning it to a curated ontology such as the Gene Ontology (GO). For instance, if a data-driven term is identified to have a similar set of genes as the GO term for DNA repair, then the data-driven subsystem can be annotated as being involved in DNA repair. Moreover, data-driven terms with no matches in the ontology alignment may represent new molecular mechanisms.\n",
    "\n",
    "<img src=\"https://raw.githubusercontent.com/michaelkyu/ddot/master/docs/toy_ontology_alignment.png\" height=\"250\" align=\"left\">"
   ]
  },
  {
   "cell_type": "code",
   "execution_count": 25,
   "metadata": {
    "ExecuteTime": {
     "end_time": "2018-06-08T19:50:23.779595Z",
     "start_time": "2018-06-08T19:50:23.773035Z"
    }
   },
   "outputs": [],
   "source": [
    "## Make a second ontology (the ontology to the right in the above diagram)\n",
    "\n",
    "# Connections from child terms to parent terms\n",
    "hierarchy = [('T3', 'T1'),\n",
    "             ('T4', 'T1'),\n",
    "             ('T1', 'T0'),\n",
    "             ('T5', 'T0')]\n",
    "\n",
    "# Connections from genes to terms\n",
    "mapping = [('A', 'T3'),\n",
    "           ('B', 'T3'),\n",
    "           ('C', 'T3'),\n",
    "           ('D', 'T4'),\n",
    "           ('E', 'T4'),\n",
    "           ('F', 'T4'),\n",
    "           ('G', 'T5'),\n",
    "           ('H', 'T5')]\n",
    "\n",
    "# Construct ontology\n",
    "ont_B = Ontology(hierarchy, mapping)"
   ]
  },
  {
   "cell_type": "code",
   "execution_count": 26,
   "metadata": {
    "ExecuteTime": {
     "end_time": "2018-06-08T19:50:27.331702Z",
     "start_time": "2018-06-08T19:50:23.780924Z"
    }
   },
   "outputs": [
    {
     "name": "stdout",
     "output_type": "stream",
     "text": [
      "collapse command: /Users/cthoyt/dev/ddot/ddot/alignOntology/collapseRedundantNodes /var/folders/l8/mz5vb84x5sg3bpv8__vr91240000gn/T/tmp58gwlwxp\n",
      "collapse command: /Users/cthoyt/dev/ddot/ddot/alignOntology/collapseRedundantNodes /var/folders/l8/mz5vb84x5sg3bpv8__vr91240000gn/T/tmpk_5b48wr\n",
      "Alignment command: /Users/cthoyt/dev/ddot/ddot/alignOntology/calculateFDRs /var/folders/l8/mz5vb84x5sg3bpv8__vr91240000gn/T/tmptcfp2au4 /var/folders/l8/mz5vb84x5sg3bpv8__vr91240000gn/T/tmpjtzdkhiy 0.05 criss_cross /var/folders/l8/mz5vb84x5sg3bpv8__vr91240000gn/T/tmpby1ips80 100 8 gene\n"
     ]
    },
    {
     "data": {
      "text/html": [
       "<div>\n",
       "<style scoped>\n",
       "    .dataframe tbody tr th:only-of-type {\n",
       "        vertical-align: middle;\n",
       "    }\n",
       "\n",
       "    .dataframe tbody tr th {\n",
       "        vertical-align: top;\n",
       "    }\n",
       "\n",
       "    .dataframe thead th {\n",
       "        text-align: right;\n",
       "    }\n",
       "</style>\n",
       "<table border=\"1\" class=\"dataframe\">\n",
       "  <thead>\n",
       "    <tr style=\"text-align: right;\">\n",
       "      <th></th>\n",
       "      <th>Term</th>\n",
       "      <th>Similarity</th>\n",
       "      <th>FDR</th>\n",
       "    </tr>\n",
       "    <tr>\n",
       "      <th>Term</th>\n",
       "      <th></th>\n",
       "      <th></th>\n",
       "      <th></th>\n",
       "    </tr>\n",
       "  </thead>\n",
       "  <tbody>\n",
       "    <tr>\n",
       "      <th>S3</th>\n",
       "      <td>T3</td>\n",
       "      <td>0.985294</td>\n",
       "      <td>0.0</td>\n",
       "    </tr>\n",
       "    <tr>\n",
       "      <th>S1</th>\n",
       "      <td>T1</td>\n",
       "      <td>0.913608</td>\n",
       "      <td>0.0</td>\n",
       "    </tr>\n",
       "    <tr>\n",
       "      <th>S6</th>\n",
       "      <td>T5</td>\n",
       "      <td>0.910000</td>\n",
       "      <td>0.0</td>\n",
       "    </tr>\n",
       "    <tr>\n",
       "      <th>S0</th>\n",
       "      <td>T0</td>\n",
       "      <td>0.892982</td>\n",
       "      <td>0.0</td>\n",
       "    </tr>\n",
       "    <tr>\n",
       "      <th>S5</th>\n",
       "      <td>T4</td>\n",
       "      <td>0.640152</td>\n",
       "      <td>0.0</td>\n",
       "    </tr>\n",
       "  </tbody>\n",
       "</table>\n",
       "</div>"
      ],
      "text/plain": [
       "     Term  Similarity  FDR\n",
       "Term                      \n",
       "S3     T3    0.985294  0.0\n",
       "S1     T1    0.913608  0.0\n",
       "S6     T5    0.910000  0.0\n",
       "S0     T0    0.892982  0.0\n",
       "S5     T4    0.640152  0.0"
      ]
     },
     "execution_count": 26,
     "metadata": {},
     "output_type": "execute_result"
    }
   ],
   "source": [
    "ont.align(ont_B)"
   ]
  },
  {
   "cell_type": "markdown",
   "metadata": {},
   "source": [
    "# Construct ontotypes\n",
    "\n",
    "* A major goal of genetics is to understand how genotype translates to phenotype. An ontology represents biological structure through which this genotype-phenotype translation happens. \n",
    "\n",
    "* Given a set of mutations comprising a genotype, DDOT allows you to propagate the impact of these mutations to the subsystems containing these genes in the ontology. In particular, the impact on a subsystem is estimated by the number of its genes that have been mutated. These subsystem activities, which we have called an “ontotype”, enables more accurate and interpretable predictions of phenotype from genotype (Yu et al. Cell Systems 2016, 2(2), pp.77-88. 2016)."
   ]
  },
  {
   "cell_type": "code",
   "execution_count": 27,
   "metadata": {
    "ExecuteTime": {
     "end_time": "2018-06-08T19:50:27.346234Z",
     "start_time": "2018-06-08T19:50:27.333349Z"
    }
   },
   "outputs": [
    {
     "name": "stdout",
     "output_type": "stream",
     "text": [
      "   S0  S1  S2  S3  S4  S5  S6\n",
      "0   0   0   0   2   0   0   0\n",
      "1   0   0   0   1   0   1   0\n",
      "2   0   0   0   1   0   0   1\n",
      "3   0   0   0   1   0   1   0\n",
      "4   0   0   0   1   0   0   1\n",
      "5   0   0   0   1   1   1   0\n",
      "6   0   0   0   0   1   1   0\n",
      "7   0   0   0   0   1   0   1\n",
      "8   0   0   0   0   0   1   1\n",
      "9   0   0   0   0   0   0   2\n"
     ]
    }
   ],
   "source": [
    "# Genotypes can be represented as tuples of mutated genes\n",
    "genotypes = [('A', 'B'),\n",
    "             ('A', 'E'),\n",
    "             ('A', 'H'),\n",
    "             ('B', 'E'),\n",
    "             ('B', 'H'),\n",
    "             ('C', 'F'),\n",
    "             ('D', 'E'),\n",
    "             ('D', 'H'),\n",
    "             ('E', 'H'),\n",
    "             ('G', 'H')]\n",
    "\n",
    "# Calculate the ontotypes, represented a genotype-by-term matrix. Each value represents the functional impact on a term in a genotype.\n",
    "ontotypes = ont.get_ontotype(genotypes)\n",
    "print(ontotypes)"
   ]
  },
  {
   "cell_type": "code",
   "execution_count": 28,
   "metadata": {
    "ExecuteTime": {
     "end_time": "2018-06-08T19:50:27.371527Z",
     "start_time": "2018-06-08T19:50:27.347769Z"
    }
   },
   "outputs": [
    {
     "name": "stdout",
     "output_type": "stream",
     "text": [
      "Genotype matrix:\n",
      "             A    B    C    D    E    F    G    H\n",
      "Genotype0  1.0  1.0  0.0  0.0  0.0  0.0  0.0  0.0\n",
      "Genotype1  1.0  0.0  0.0  0.0  1.0  0.0  0.0  0.0\n",
      "Genotype2  1.0  0.0  0.0  0.0  0.0  0.0  0.0  1.0\n",
      "Genotype3  0.0  1.0  0.0  0.0  1.0  0.0  0.0  0.0\n",
      "Genotype4  0.0  1.0  0.0  0.0  0.0  0.0  0.0  1.0\n",
      "Genotype5  0.0  0.0  1.0  0.0  0.0  1.0  0.0  0.0\n",
      "Genotype6  0.0  0.0  0.0  1.0  1.0  0.0  0.0  0.0\n",
      "Genotype7  0.0  0.0  0.0  1.0  0.0  0.0  0.0  1.0\n",
      "Genotype8  0.0  0.0  0.0  0.0  1.0  0.0  0.0  1.0\n",
      "Genotype9  0.0  0.0  0.0  0.0  0.0  0.0  1.0  1.0\n"
     ]
    }
   ],
   "source": [
    "# Genotypes can also be represented a genotype-by-gene matrix as an alternative input format\n",
    "genotypes_df = pd.DataFrame(\n",
    "    np.zeros((len(genotypes), len(ont.genes)), np.float64),\n",
    "    index=[f'Genotype{i}' for i in range(len(genotypes))],\n",
    "    columns=ont.genes,\n",
    ")\n",
    "\n",
    "for i, (g1, g2) in enumerate(genotypes):\n",
    "    genotypes_df.loc['Genotype%s' % i, g1] = 1.0\n",
    "    genotypes_df.loc['Genotype%s' % i, g2] = 1.0\n",
    "\n",
    "print('Genotype matrix:')\n",
    "print(genotypes_df)"
   ]
  },
  {
   "cell_type": "code",
   "execution_count": 29,
   "metadata": {
    "ExecuteTime": {
     "end_time": "2018-06-08T19:50:27.371527Z",
     "start_time": "2018-06-08T19:50:27.347769Z"
    }
   },
   "outputs": [
    {
     "name": "stdout",
     "output_type": "stream",
     "text": [
      "Ontotype matrix:\n",
      "            S0   S1   S2   S3   S4   S5   S6\n",
      "Genotype0  0.0  0.0  0.0  2.0  0.0  0.0  0.0\n",
      "Genotype1  0.0  0.0  0.0  1.0  0.0  1.0  0.0\n",
      "Genotype2  0.0  0.0  0.0  1.0  0.0  0.0  1.0\n",
      "Genotype3  0.0  0.0  0.0  1.0  0.0  1.0  0.0\n",
      "Genotype4  0.0  0.0  0.0  1.0  0.0  0.0  1.0\n",
      "Genotype5  0.0  0.0  0.0  1.0  1.0  1.0  0.0\n",
      "Genotype6  0.0  0.0  0.0  0.0  1.0  1.0  0.0\n",
      "Genotype7  0.0  0.0  0.0  0.0  1.0  0.0  1.0\n",
      "Genotype8  0.0  0.0  0.0  0.0  0.0  1.0  1.0\n",
      "Genotype9  0.0  0.0  0.0  0.0  0.0  0.0  2.0\n"
     ]
    }
   ],
   "source": [
    "ontotypes = ont.get_ontotype(genotypes_df, input_format='matrix')\n",
    "print('Ontotype matrix:')\n",
    "print(ontotypes)"
   ]
  },
  {
   "cell_type": "markdown",
   "metadata": {},
   "source": [
    "# Conversions to NetworkX and igraph"
   ]
  },
  {
   "cell_type": "code",
   "execution_count": 30,
   "metadata": {
    "ExecuteTime": {
     "end_time": "2018-06-08T19:50:27.377839Z",
     "start_time": "2018-06-08T19:50:27.373135Z"
    }
   },
   "outputs": [
    {
     "name": "stdout",
     "output_type": "stream",
     "text": [
      "IGRAPH DN-- 15 16 --\n",
      "+ attr: NodeType (v), name (v), EdgeType (e)\n",
      "+ edges (vertex names):\n",
      "A->S3, B->S3, C->S3, C->S4, D->S4, E->S5, F->S5, G->S6, H->S6, S1->S0, S2->S0,\n",
      "S3->S1, S4->S1, S5->S1, S5->S2, S6->S2\n"
     ]
    }
   ],
   "source": [
    "# Convert to an igraph object\n",
    "G = ont.to_igraph()\n",
    "print(G)"
   ]
  },
  {
   "cell_type": "code",
   "execution_count": 31,
   "metadata": {
    "ExecuteTime": {
     "end_time": "2018-06-08T19:50:27.391445Z",
     "start_time": "2018-06-08T19:50:27.379390Z"
    }
   },
   "outputs": [
    {
     "data": {
      "text/plain": [
       "8 genes, 7 terms, 9 gene-term relations, 7 term-term relations\n",
       "node_attributes: []\n",
       "edge_attributes: []"
      ]
     },
     "execution_count": 31,
     "metadata": {},
     "output_type": "execute_result"
    }
   ],
   "source": [
    "# Reconstruct the Ontology object from the igraph object\n",
    "Ontology.from_igraph(G)"
   ]
  },
  {
   "cell_type": "code",
   "execution_count": 32,
   "metadata": {
    "ExecuteTime": {
     "end_time": "2018-06-08T19:50:27.434593Z",
     "start_time": "2018-06-08T19:50:27.392809Z"
    }
   },
   "outputs": [
    {
     "name": "stdout",
     "output_type": "stream",
     "text": [
      "['A', 'B', 'C', 'D', 'E', 'F', 'G', 'H', 'S0', 'S1', 'S2', 'S3', 'S4', 'S5', 'S6']\n",
      "[('A', 'S3'), ('B', 'S3'), ('C', 'S3'), ('C', 'S4'), ('D', 'S4'), ('E', 'S5'), ('F', 'S5'), ('G', 'S6'), ('H', 'S6'), ('S1', 'S0'), ('S2', 'S0'), ('S3', 'S1'), ('S4', 'S1'), ('S5', 'S1'), ('S5', 'S2'), ('S6', 'S2')]\n"
     ]
    }
   ],
   "source": [
    "# Convert to a NetworkX object\n",
    "G = ont.to_networkx()\n",
    "print(G.nodes())\n",
    "print(G.edges())"
   ]
  },
  {
   "cell_type": "code",
   "execution_count": 33,
   "metadata": {
    "ExecuteTime": {
     "end_time": "2018-06-08T19:50:27.478011Z",
     "start_time": "2018-06-08T19:50:27.437617Z"
    }
   },
   "outputs": [
    {
     "name": "stdout",
     "output_type": "stream",
     "text": [
      "8 genes, 7 terms, 9 gene-term relations, 7 term-term relations\n",
      "node_attributes: []\n",
      "edge_attributes: []\n"
     ]
    }
   ],
   "source": [
    "# Reconstruct the Ontology object from the NetworkX object\n",
    "tmp = Ontology.from_networkx(G)\n",
    "print(tmp)"
   ]
  },
  {
   "cell_type": "markdown",
   "metadata": {},
   "source": [
    "# Ontology visualization using HiView (http://hiview.ucsd.edu)\n",
    "* HiView is a web application for general visualization of the hierarchical structure in ontologies.\n",
    "* To use HiView, you must first upload your ontology into NDEx using the [Ontology.to_ndex()](http://ddot.readthedocs.io/en/latest/ontology.html#ddot.Ontology.to_ndex) function, and then input the NDEx URL for the ontology to HiView\n",
    "* In contrast to almost all other hierarchical visualization tools, which are limited to simple tree structures, HiView also supports more complicated hierarchies in the form of directed acyclic graphs, in which nodes may have multiple parents."
   ]
  },
  {
   "cell_type": "markdown",
   "metadata": {},
   "source": [
    "### A simple upload to NDEx and visualization in HiView\n",
    "* Upload ontologies to NDEx using the `Ontology.to_ndex()` function.\n",
    "* Setting the parameter `layout=\"bubble\"` (default value) will identify a spanning tree of the DAG and then lay this tree in a space-compact manner. When viewing in HiView, only the edges in the spanning tree are shown, while the other edges can be chosen to be shown.\n",
    "\n",
    "<img src=\"https://raw.githubusercontent.com/michaelkyu/ddot/master/docs/toy_ontology_spanning_tree.png\" height=\"250\" align=\"left\">"
   ]
  },
  {
   "cell_type": "code",
   "execution_count": 34,
   "metadata": {
    "ExecuteTime": {
     "end_time": "2018-06-08T19:50:27.726543Z",
     "start_time": "2018-06-08T19:50:27.481041Z"
    }
   },
   "outputs": [
    {
     "name": "stdout",
     "output_type": "stream",
     "text": [
      "Go to http://hiview.ucsd.edu in your web browser\n",
      "Enter this into the \"NDEx Sever URL\" field: http://ndexbio.org\n",
      "Enter this into the \"UUID of the main hierarchy\" field: 97424525-d861-11e8-aaa6-0ac135e8bacf\n"
     ]
    }
   ],
   "source": [
    "url, _ = ont.to_ndex(\n",
    "    ndex_server=ndex_server,\n",
    "    ndex_user=ndex_user,\n",
    "    ndex_pass=ndex_pass,\n",
    "    layout=None,  # 'bubble'\n",
    ")\n",
    "\n",
    "print('Go to http://hiview.ucsd.edu in your web browser')\n",
    "print('Enter this into the \"NDEx Sever URL\" field: %s' % ndex_server)\n",
    "print('Enter this into the \"UUID of the main hierarchy\" field: %s' % url.split('/')[-1])"
   ]
  },
  {
   "cell_type": "markdown",
   "metadata": {},
   "source": [
    "### An alternative layout by duplicating nodes\n",
    "* Setting the parameter `layout=\"bubble-collect\"` will convert the DAG into a tree by duplicating nodes.\n",
    "* This transformation enables the ontology structure to be visualized without edges crossing.\n",
    "\n",
    "<img src=\"https://raw.githubusercontent.com/michaelkyu/ddot/master/docs/toy_ontology_dag2tree.png\" height=\"250\" align=\"left\">"
   ]
  },
  {
   "cell_type": "code",
   "execution_count": 35,
   "metadata": {
    "ExecuteTime": {
     "end_time": "2018-06-08T19:50:28.040193Z",
     "start_time": "2018-06-08T19:50:27.728140Z"
    }
   },
   "outputs": [
    {
     "name": "stdout",
     "output_type": "stream",
     "text": [
      "Go to http://hiview.ucsd.edu in your web browser\n",
      "Enter this into the \"NDEx Sever URL\" field: http://ndexbio.org\n",
      "Enter this into the \"UUID of the main hierarchy\" field: 98071bc8-d861-11e8-aaa6-0ac135e8bacf\n"
     ]
    }
   ],
   "source": [
    "url, _ = ont.to_ndex(ndex_server=ndex_server,\n",
    "                     ndex_user=ndex_user,\n",
    "                     ndex_pass=ndex_pass,\n",
    "                     layout='bubble-collect')\n",
    "\n",
    "print('Go to http://hiview.ucsd.edu in your web browser')\n",
    "print('Enter this into the \"NDEx Sever URL\" field: %s' % ndex_server)\n",
    "print('Enter this into the \"UUID of the main hierarchy\" field: %s' % url.split('/')[-1])"
   ]
  },
  {
   "cell_type": "markdown",
   "metadata": {},
   "source": [
    "### Visualizing metadata by modifying node labels, colors, and sizes\n",
    "\n",
    "* An Ontology object has a `node_attr` field that is a pandas DataFrame. The rows of the dataframe are genes or terms, and the columns are node attributes.\n",
    "* HiView understands special node attributes to control the node labels, colors, and sizes."
   ]
  },
  {
   "cell_type": "code",
   "execution_count": 36,
   "metadata": {
    "ExecuteTime": {
     "end_time": "2018-06-08T19:50:28.070993Z",
     "start_time": "2018-06-08T19:50:28.042764Z"
    }
   },
   "outputs": [
    {
     "data": {
      "text/html": [
       "<div>\n",
       "<style scoped>\n",
       "    .dataframe tbody tr th:only-of-type {\n",
       "        vertical-align: middle;\n",
       "    }\n",
       "\n",
       "    .dataframe tbody tr th {\n",
       "        vertical-align: top;\n",
       "    }\n",
       "\n",
       "    .dataframe thead th {\n",
       "        text-align: right;\n",
       "    }\n",
       "</style>\n",
       "<table border=\"1\" class=\"dataframe\">\n",
       "  <thead>\n",
       "    <tr style=\"text-align: right;\">\n",
       "      <th></th>\n",
       "      <th>Label</th>\n",
       "      <th>Vis:Fill Color</th>\n",
       "      <th>Size</th>\n",
       "    </tr>\n",
       "    <tr>\n",
       "      <th>Node</th>\n",
       "      <th></th>\n",
       "      <th></th>\n",
       "      <th></th>\n",
       "    </tr>\n",
       "  </thead>\n",
       "  <tbody>\n",
       "    <tr>\n",
       "      <th>S4</th>\n",
       "      <td>S4 alias</td>\n",
       "      <td>NaN</td>\n",
       "      <td>NaN</td>\n",
       "    </tr>\n",
       "    <tr>\n",
       "      <th>S5</th>\n",
       "      <td>S5 alias</td>\n",
       "      <td>NaN</td>\n",
       "      <td>NaN</td>\n",
       "    </tr>\n",
       "    <tr>\n",
       "      <th>C</th>\n",
       "      <td>NaN</td>\n",
       "      <td>#7fc97f</td>\n",
       "      <td>10.0</td>\n",
       "    </tr>\n",
       "    <tr>\n",
       "      <th>S1</th>\n",
       "      <td>NaN</td>\n",
       "      <td>#beaed4</td>\n",
       "      <td>NaN</td>\n",
       "    </tr>\n",
       "    <tr>\n",
       "      <th>S0</th>\n",
       "      <td>NaN</td>\n",
       "      <td>#fdc086</td>\n",
       "      <td>NaN</td>\n",
       "    </tr>\n",
       "  </tbody>\n",
       "</table>\n",
       "</div>"
      ],
      "text/plain": [
       "         Label Vis:Fill Color  Size\n",
       "Node                               \n",
       "S4    S4 alias            NaN   NaN\n",
       "S5    S5 alias            NaN   NaN\n",
       "C          NaN        #7fc97f  10.0\n",
       "S1         NaN        #beaed4   NaN\n",
       "S0         NaN        #fdc086   NaN"
      ]
     },
     "execution_count": 36,
     "metadata": {},
     "output_type": "execute_result"
    }
   ],
   "source": [
    "# Set the node labels (default is the gene and term names, as found in Ontology.genes and Ontology.terms)\n",
    "ont.node_attr.loc['S4', 'Label'] = 'S4 alias'\n",
    "ont.node_attr.loc['S5', 'Label'] = 'S5 alias'\n",
    "\n",
    "# Set the fill color of nodes\n",
    "ont.node_attr.loc['C', 'Vis:Fill Color'] = '#7fc97f'\n",
    "ont.node_attr.loc['S1', 'Vis:Fill Color'] = '#beaed4'\n",
    "ont.node_attr.loc['S0', 'Vis:Fill Color'] = '#fdc086'\n",
    "\n",
    "# Set the node sizes (if not set, the default is the term size, as found in Ontology.term_sizes)\n",
    "ont.node_attr.loc['C', 'Size'] = 10\n",
    "\n",
    "ont.node_attr"
   ]
  },
  {
   "cell_type": "code",
   "execution_count": 37,
   "metadata": {
    "ExecuteTime": {
     "end_time": "2018-06-08T19:50:28.366223Z",
     "start_time": "2018-06-08T19:50:28.073221Z"
    }
   },
   "outputs": [
    {
     "name": "stderr",
     "output_type": "stream",
     "text": [
      "/Users/cthoyt/dev/ddot/ddot/Ontology.py:1073: FutureWarning: Sorting because non-concatenation axis is not aligned. A future version\n",
      "of pandas will change to not sort by default.\n",
      "\n",
      "To accept the future behavior, pass 'sort=False'.\n",
      "\n",
      "To retain the current behavior and silence the warning, pass 'sort=True'.\n",
      "\n",
      "  ont_collect.node_attr = pd.concat([ont.node_attr, merge], 0)\n"
     ]
    },
    {
     "name": "stdout",
     "output_type": "stream",
     "text": [
      "Go to http://hiview.ucsd.edu in your web browser\n",
      "Enter this into the \"NDEx Sever URL\" field: http://ndexbio.org\n",
      "Enter this into the \"UUID of the main hierarchy\" field: 98cf4dcb-d861-11e8-aaa6-0ac135e8bacf\n"
     ]
    }
   ],
   "source": [
    "url, _ = ont.to_ndex(ndex_server=ndex_server,\n",
    "                     ndex_user=ndex_user,\n",
    "                     ndex_pass=ndex_pass,\n",
    "                     layout='bubble-collect')\n",
    "\n",
    "print('Go to http://hiview.ucsd.edu in your web browser')\n",
    "print('Enter this into the \"NDEx Sever URL\" field: %s' % ndex_server)\n",
    "print('Enter this into the \"UUID of the main hierarchy\" field: %s' % url.split('/')[-1])"
   ]
  },
  {
   "cell_type": "code",
   "execution_count": 38,
   "metadata": {
    "ExecuteTime": {
     "end_time": "2018-06-08T19:50:28.374447Z",
     "start_time": "2018-06-08T19:50:28.367786Z"
    }
   },
   "outputs": [
    {
     "data": {
      "text/html": [
       "<div>\n",
       "<style scoped>\n",
       "    .dataframe tbody tr th:only-of-type {\n",
       "        vertical-align: middle;\n",
       "    }\n",
       "\n",
       "    .dataframe tbody tr th {\n",
       "        vertical-align: top;\n",
       "    }\n",
       "\n",
       "    .dataframe thead th {\n",
       "        text-align: right;\n",
       "    }\n",
       "</style>\n",
       "<table border=\"1\" class=\"dataframe\">\n",
       "  <thead>\n",
       "    <tr style=\"text-align: right;\">\n",
       "      <th></th>\n",
       "    </tr>\n",
       "    <tr>\n",
       "      <th>Node</th>\n",
       "    </tr>\n",
       "  </thead>\n",
       "  <tbody>\n",
       "  </tbody>\n",
       "</table>\n",
       "</div>"
      ],
      "text/plain": [
       "Empty DataFrame\n",
       "Columns: []\n",
       "Index: []"
      ]
     },
     "execution_count": 38,
     "metadata": {},
     "output_type": "execute_result"
    }
   ],
   "source": [
    "# Clear node attributes (optional)\n",
    "ont.clear_node_attr()\n",
    "ont.node_attr"
   ]
  },
  {
   "cell_type": "markdown",
   "metadata": {},
   "source": [
    "### Visualize gene-gene interaction networks alongside the ontology\n",
    "* Every term in an ontology represents a biological function shared among the term's genes. Based on this intuition, those genes should be interacting in different ways, e.g. protein-protein interactions, RNA expression, or genetic interactions.\n",
    "* Gene-gene interaction networks can be uploaded with the ontology to NDEx, so that they can be visualized at the same time in HiView"
   ]
  },
  {
   "cell_type": "code",
   "execution_count": 39,
   "metadata": {
    "ExecuteTime": {
     "end_time": "2018-06-08T19:50:28.391429Z",
     "start_time": "2018-06-08T19:50:28.376894Z"
    }
   },
   "outputs": [
    {
     "name": "stdout",
     "output_type": "stream",
     "text": [
      "['A' 'B' 'C' 'D' 'E' 'F' 'G' 'H']\n",
      "[[ 1.42  1.42  1.42  0.42  0.42  0.42 -0.   -0.  ]\n",
      " [ 1.42  1.42  1.42  0.42  0.42  0.42 -0.   -0.  ]\n",
      " [ 1.42  1.42  2.    2.    0.42  0.42 -0.   -0.  ]\n",
      " [ 0.42  0.42  2.    2.    0.42  0.42 -0.   -0.  ]\n",
      " [ 0.42  0.42  0.42  0.42  2.    2.    1.    1.  ]\n",
      " [ 0.42  0.42  0.42  0.42  2.    2.    1.    1.  ]\n",
      " [-0.   -0.   -0.   -0.    1.    1.    2.    2.  ]\n",
      " [-0.   -0.   -0.   -0.    1.    1.    2.    2.  ]]\n"
     ]
    }
   ],
   "source": [
    "# Calculate a gene-by-gene similarity matrix using the Resnik semantic similarity definition (see section \"Inferring a data-driven ontology\")\n",
    "sim, genes = ont.flatten()\n",
    "print(genes)\n",
    "print(np.round(sim, 2))"
   ]
  },
  {
   "cell_type": "markdown",
   "metadata": {
    "ExecuteTime": {
     "end_time": "2018-06-08T19:50:28.412203Z",
     "start_time": "2018-06-08T19:50:28.393606Z"
    }
   },
   "source": [
    "Convert the gene-by-gene similarity matrix into a dataframe with a \"long\" format, where rows represent gene pairs. This conversion can be easily done with ddot.melt_square()"
   ]
  },
  {
   "cell_type": "code",
   "execution_count": 40,
   "metadata": {
    "ExecuteTime": {
     "end_time": "2018-06-08T19:50:28.412203Z",
     "start_time": "2018-06-08T19:50:28.393606Z"
    }
   },
   "outputs": [
    {
     "data": {
      "text/html": [
       "<div>\n",
       "<style scoped>\n",
       "    .dataframe tbody tr th:only-of-type {\n",
       "        vertical-align: middle;\n",
       "    }\n",
       "\n",
       "    .dataframe tbody tr th {\n",
       "        vertical-align: top;\n",
       "    }\n",
       "\n",
       "    .dataframe thead th {\n",
       "        text-align: right;\n",
       "    }\n",
       "</style>\n",
       "<table border=\"1\" class=\"dataframe\">\n",
       "  <thead>\n",
       "    <tr style=\"text-align: right;\">\n",
       "      <th></th>\n",
       "      <th>Gene1</th>\n",
       "      <th>Gene2</th>\n",
       "      <th>similarity</th>\n",
       "    </tr>\n",
       "  </thead>\n",
       "  <tbody>\n",
       "    <tr>\n",
       "      <th>0</th>\n",
       "      <td>A</td>\n",
       "      <td>B</td>\n",
       "      <td>1.415038</td>\n",
       "    </tr>\n",
       "    <tr>\n",
       "      <th>1</th>\n",
       "      <td>A</td>\n",
       "      <td>C</td>\n",
       "      <td>1.415038</td>\n",
       "    </tr>\n",
       "    <tr>\n",
       "      <th>2</th>\n",
       "      <td>A</td>\n",
       "      <td>D</td>\n",
       "      <td>0.415038</td>\n",
       "    </tr>\n",
       "    <tr>\n",
       "      <th>3</th>\n",
       "      <td>A</td>\n",
       "      <td>E</td>\n",
       "      <td>0.415038</td>\n",
       "    </tr>\n",
       "    <tr>\n",
       "      <th>4</th>\n",
       "      <td>A</td>\n",
       "      <td>F</td>\n",
       "      <td>0.415038</td>\n",
       "    </tr>\n",
       "  </tbody>\n",
       "</table>\n",
       "</div>"
      ],
      "text/plain": [
       "  Gene1 Gene2  similarity\n",
       "0     A     B    1.415038\n",
       "1     A     C    1.415038\n",
       "2     A     D    0.415038\n",
       "3     A     E    0.415038\n",
       "4     A     F    0.415038"
      ]
     },
     "execution_count": 40,
     "metadata": {},
     "output_type": "execute_result"
    }
   ],
   "source": [
    "sim_df = pd.DataFrame(sim, index=genes, columns=genes)\n",
    "sim_long = ddot.melt_square(sim_df)\n",
    "sim_long.head()"
   ]
  },
  {
   "cell_type": "markdown",
   "metadata": {
    "ExecuteTime": {
     "end_time": "2018-06-08T19:50:28.494994Z",
     "start_time": "2018-06-08T19:50:28.414155Z"
    }
   },
   "source": [
    "Create other gene-gene interactions. For example, these can represent protein-protein interactions or gene co-expression. Here, we simulate interactions by adding a random noise to the Resnik similarity"
   ]
  },
  {
   "cell_type": "code",
   "execution_count": 41,
   "metadata": {
    "ExecuteTime": {
     "end_time": "2018-06-08T19:50:28.494994Z",
     "start_time": "2018-06-08T19:50:28.414155Z"
    }
   },
   "outputs": [
    {
     "data": {
      "text/html": [
       "<div>\n",
       "<style scoped>\n",
       "    .dataframe tbody tr th:only-of-type {\n",
       "        vertical-align: middle;\n",
       "    }\n",
       "\n",
       "    .dataframe tbody tr th {\n",
       "        vertical-align: top;\n",
       "    }\n",
       "\n",
       "    .dataframe thead th {\n",
       "        text-align: right;\n",
       "    }\n",
       "</style>\n",
       "<table border=\"1\" class=\"dataframe\">\n",
       "  <thead>\n",
       "    <tr style=\"text-align: right;\">\n",
       "      <th></th>\n",
       "      <th>Gene1</th>\n",
       "      <th>Gene2</th>\n",
       "      <th>similarity</th>\n",
       "      <th>example_interaction_type1</th>\n",
       "      <th>example_interaction_type2</th>\n",
       "    </tr>\n",
       "  </thead>\n",
       "  <tbody>\n",
       "    <tr>\n",
       "      <th>0</th>\n",
       "      <td>A</td>\n",
       "      <td>B</td>\n",
       "      <td>1.415038</td>\n",
       "      <td>1.749686</td>\n",
       "      <td>1.652217</td>\n",
       "    </tr>\n",
       "    <tr>\n",
       "      <th>1</th>\n",
       "      <td>A</td>\n",
       "      <td>C</td>\n",
       "      <td>1.415038</td>\n",
       "      <td>1.445287</td>\n",
       "      <td>1.780512</td>\n",
       "    </tr>\n",
       "    <tr>\n",
       "      <th>2</th>\n",
       "      <td>A</td>\n",
       "      <td>D</td>\n",
       "      <td>0.415038</td>\n",
       "      <td>0.562092</td>\n",
       "      <td>0.568865</td>\n",
       "    </tr>\n",
       "    <tr>\n",
       "      <th>3</th>\n",
       "      <td>A</td>\n",
       "      <td>E</td>\n",
       "      <td>0.415038</td>\n",
       "      <td>0.539870</td>\n",
       "      <td>0.900285</td>\n",
       "    </tr>\n",
       "    <tr>\n",
       "      <th>4</th>\n",
       "      <td>A</td>\n",
       "      <td>F</td>\n",
       "      <td>0.415038</td>\n",
       "      <td>0.906508</td>\n",
       "      <td>0.802648</td>\n",
       "    </tr>\n",
       "  </tbody>\n",
       "</table>\n",
       "</div>"
      ],
      "text/plain": [
       "  Gene1 Gene2  similarity  example_interaction_type1  \\\n",
       "0     A     B    1.415038                   1.749686   \n",
       "1     A     C    1.415038                   1.445287   \n",
       "2     A     D    0.415038                   0.562092   \n",
       "3     A     E    0.415038                   0.539870   \n",
       "4     A     F    0.415038                   0.906508   \n",
       "\n",
       "   example_interaction_type2  \n",
       "0                   1.652217  \n",
       "1                   1.780512  \n",
       "2                   0.568865  \n",
       "3                   0.900285  \n",
       "4                   0.802648  "
      ]
     },
     "execution_count": 41,
     "metadata": {},
     "output_type": "execute_result"
    }
   ],
   "source": [
    "sim_long['example_interaction_type1'] = sim_long['similarity'] + np.random.random(sim_long.shape[0]) / 2.\n",
    "sim_long['example_interaction_type2'] = sim_long['similarity'] + np.random.random(sim_long.shape[0]) / 2.\n",
    "sim_long.head()"
   ]
  },
  {
   "cell_type": "code",
   "execution_count": 42,
   "metadata": {
    "ExecuteTime": {
     "end_time": "2018-06-08T19:50:30.120262Z",
     "start_time": "2018-06-08T19:50:28.496717Z"
    },
    "scrolled": false
   },
   "outputs": [
    {
     "name": "stdout",
     "output_type": "stream",
     "text": [
      "Go to http://hiview.ucsd.edu in your web browser\n",
      "Enter this into the \"NDEx Sever URL\" field: http://ndexbio.org\n",
      "Enter this into the \"UUID of the main hierarchy\" field: 9d05f2b3-d861-11e8-aaa6-0ac135e8bacf\n"
     ]
    }
   ],
   "source": [
    "# Include the above gene-gene interactions by setting the `network` and `main_feature` parameters.\n",
    "url, _ = ont.to_ndex(\n",
    "    ndex_server=ndex_server,\n",
    "    ndex_user=ndex_user,\n",
    "    ndex_pass=ndex_pass,\n",
    "    network=sim_long,\n",
    "    main_feature='similarity',\n",
    "    layout='bubble-collect',\n",
    ")\n",
    "\n",
    "print('Go to http://hiview.ucsd.edu in your web browser')\n",
    "print('Enter this into the \"NDEx Sever URL\" field: %s' % ndex_server)\n",
    "print('Enter this into the \"UUID of the main hierarchy\" field: %s' % url.split('/')[-1])"
   ]
  }
 ],
 "metadata": {
  "kernelspec": {
   "display_name": "Python 3",
   "language": "python",
   "name": "python3"
  },
  "language_info": {
   "codemirror_mode": {
    "name": "ipython",
    "version": 3
   },
   "file_extension": ".py",
   "mimetype": "text/x-python",
   "name": "python",
   "nbconvert_exporter": "python",
   "pygments_lexer": "ipython3",
   "version": "3.7.0"
  },
  "latex_envs": {
   "LaTeX_envs_menu_present": true,
   "autocomplete": true,
   "bibliofile": "biblio.bib",
   "cite_by": "apalike",
   "current_citInitial": 1,
   "eqLabelWithNumbers": true,
   "eqNumInitial": 1,
   "hotkeys": {
    "equation": "Ctrl-E",
    "itemize": "Ctrl-I"
   },
   "labels_anchors": false,
   "latex_user_defs": false,
   "report_style_numbering": false,
   "user_envs_cfg": false
  },
  "toc": {
   "colors": {
    "hover_highlight": "#DAA520",
    "navigate_num": "#000000",
    "navigate_text": "#333333",
    "running_highlight": "#FF0000",
    "selected_highlight": "#FFD700",
    "sidebar_border": "#EEEEEE",
    "wrapper_background": "#FFFFFF"
   },
   "moveMenuLeft": true,
   "nav_menu": {
    "height": "66px",
    "width": "252px"
   },
   "navigate_menu": true,
   "number_sections": true,
   "sideBar": true,
   "threshold": 4,
   "toc_cell": false,
   "toc_position": {
    "height": "672px",
    "left": "0px",
    "right": "1391.67px",
    "top": "106px",
    "width": "299px"
   },
   "toc_section_display": "block",
   "toc_window_display": false,
   "widenNotebook": false
  }
 },
 "nbformat": 4,
 "nbformat_minor": 2
}

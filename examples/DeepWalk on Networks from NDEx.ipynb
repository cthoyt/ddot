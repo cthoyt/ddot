{
 "cells": [
  {
   "cell_type": "markdown",
   "metadata": {},
   "source": [
    "This notebook outlines a short workflow for using DeepWalk (a random walk-based representation learning algorithm) for generating node similarities based on a given network from NDEx, then using the CLiXO algorithm to generate an ontology. "
   ]
  },
  {
   "cell_type": "code",
   "execution_count": 1,
   "metadata": {},
   "outputs": [],
   "source": [
    "import itertools as itt\n",
    "import json\n",
    "import sys\n",
    "import time\n",
    "\n",
    "import deepwalk.graph\n",
    "import ndex\n",
    "import numpy as np\n",
    "import pandas as pd\n",
    "\n",
    "from ddot import Ontology\n",
    "from gensim.models import Word2Vec\n",
    "from IPython.core.display import HTML\n",
    "from scipy.spatial.distance import cosine\n",
    "from sklearn.metrics.pairwise import cosine_similarity\n",
    "from tqdm import tqdm_notebook as tqdm"
   ]
  },
  {
   "cell_type": "code",
   "execution_count": 2,
   "metadata": {},
   "outputs": [
    {
     "name": "stdout",
     "output_type": "stream",
     "text": [
      "Thu Nov 15 16:40:55 2018\n"
     ]
    }
   ],
   "source": [
    "print(time.asctime())"
   ]
  },
  {
   "cell_type": "code",
   "execution_count": 3,
   "metadata": {},
   "outputs": [
    {
     "name": "stdout",
     "output_type": "stream",
     "text": [
      "3.7.0 (default, Jul 23 2018, 20:22:55) \n",
      "[Clang 9.1.0 (clang-902.0.39.2)]\n"
     ]
    }
   ],
   "source": [
    "print(sys.version)"
   ]
  },
  {
   "cell_type": "markdown",
   "metadata": {},
   "source": [
    "## Get Network from NDEx"
   ]
  },
  {
   "cell_type": "code",
   "execution_count": 4,
   "metadata": {},
   "outputs": [
    {
     "data": {
      "text/plain": [
       "<ndex.client.Ndex at 0x118fd6a58>"
      ]
     },
     "execution_count": 4,
     "metadata": {},
     "output_type": "execute_result"
    }
   ],
   "source": [
    "ndex_client = ndex.client.Ndex()\n",
    "ndex_client"
   ]
  },
  {
   "cell_type": "markdown",
   "metadata": {},
   "source": [
    "This example uses PCNet. See: http://www.ndexbio.org/#/network/f93f402c-86d4-11e7-a10d-0ac135e8bacf"
   ]
  },
  {
   "cell_type": "code",
   "execution_count": 5,
   "metadata": {},
   "outputs": [],
   "source": [
    "network_id = 'f93f402c-86d4-11e7-a10d-0ac135e8bacf'"
   ]
  },
  {
   "cell_type": "code",
   "execution_count": 6,
   "metadata": {},
   "outputs": [
    {
     "data": {
      "text/html": [
       "<div>Binary interactions of the Parsimonious Composite Network (PCNet) as described in the &#34;Integrating networks improves gene set recovery&#34; results section of the paper from Huang and Carlin et al. 2018. This network was shown to have higher overall performance on recovering the collection of literature-based disease-associated gene sets than any single network from the compendium of 21 networks studied by Huang and Carlin et al. PCNet is a union of all molecular interactions across the 21 evaluated molecular networks on the condition that the interaction appears in at least 2 of the molecular networks.</div><div><br/></div><div>This network belongs to the <a href=\"https://goo.gl/WVDznR\" target=\"\" style=\"font-size: 13.86px;\">NDEx Network Set</a> associated with the 2018 Huang and Carlin et al. Cell Systems paper.<br/></div>"
      ],
      "text/plain": [
       "<IPython.core.display.HTML object>"
      ]
     },
     "execution_count": 6,
     "metadata": {},
     "output_type": "execute_result"
    }
   ],
   "source": [
    "HTML(ndex_client.get_network_summary(network_id)['description'])"
   ]
  },
  {
   "cell_type": "code",
   "execution_count": 7,
   "metadata": {},
   "outputs": [
    {
     "name": "stdout",
     "output_type": "stream",
     "text": [
      "CPU times: user 4.45 s, sys: 1.68 s, total: 6.13 s\n",
      "Wall time: 47.6 s\n"
     ]
    }
   ],
   "source": [
    "%%time\n",
    "res = ndex_client.get_network_as_cx_stream(network_id)\n",
    "res_json = res.json()"
   ]
  },
  {
   "cell_type": "code",
   "execution_count": 8,
   "metadata": {},
   "outputs": [],
   "source": [
    "with open(f'{network_id}.cx.json', 'w') as file:\n",
    "    json.dump(res_json, file, indent=2)"
   ]
  },
  {
   "cell_type": "markdown",
   "metadata": {},
   "source": [
    "## Representation Learning of Verticies\n",
    "\n",
    "### Convert to DeepWalk Graph"
   ]
  },
  {
   "cell_type": "code",
   "execution_count": 9,
   "metadata": {},
   "outputs": [
    {
     "data": {
      "application/vnd.jupyter.widget-view+json": {
       "model_id": "6c310d506e6b44e4b9e155bd2ca0e41d",
       "version_major": 2,
       "version_minor": 0
      },
      "text/plain": [
       "HBox(children=(IntProgress(value=0, description='entry', max=10, style=ProgressStyle(description_width='initia…"
      ]
     },
     "metadata": {},
     "output_type": "display_data"
    },
    {
     "data": {
      "application/vnd.jupyter.widget-view+json": {
       "model_id": "",
       "version_major": 2,
       "version_minor": 0
      },
      "text/plain": [
       "HBox(children=(IntProgress(value=0, description='aspect', max=1, style=ProgressStyle(description_width='initia…"
      ]
     },
     "metadata": {},
     "output_type": "display_data"
    },
    {
     "data": {
      "application/vnd.jupyter.widget-view+json": {
       "model_id": "",
       "version_major": 2,
       "version_minor": 0
      },
      "text/plain": [
       "HBox(children=(IntProgress(value=0, description='aspect', max=1, style=ProgressStyle(description_width='initia…"
      ]
     },
     "metadata": {},
     "output_type": "display_data"
    },
    {
     "data": {
      "application/vnd.jupyter.widget-view+json": {
       "model_id": "",
       "version_major": 2,
       "version_minor": 0
      },
      "text/plain": [
       "HBox(children=(IntProgress(value=0, description='aspect', max=1, style=ProgressStyle(description_width='initia…"
      ]
     },
     "metadata": {},
     "output_type": "display_data"
    },
    {
     "data": {
      "application/vnd.jupyter.widget-view+json": {
       "model_id": "",
       "version_major": 2,
       "version_minor": 0
      },
      "text/plain": [
       "HBox(children=(IntProgress(value=0, description='aspect', max=1, style=ProgressStyle(description_width='initia…"
      ]
     },
     "metadata": {},
     "output_type": "display_data"
    },
    {
     "data": {
      "application/vnd.jupyter.widget-view+json": {
       "model_id": "",
       "version_major": 2,
       "version_minor": 0
      },
      "text/plain": [
       "HBox(children=(IntProgress(value=0, description='aspect', max=1, style=ProgressStyle(description_width='initia…"
      ]
     },
     "metadata": {},
     "output_type": "display_data"
    },
    {
     "data": {
      "application/vnd.jupyter.widget-view+json": {
       "model_id": "",
       "version_major": 2,
       "version_minor": 0
      },
      "text/plain": [
       "HBox(children=(IntProgress(value=0, description='aspect', max=1, style=ProgressStyle(description_width='initia…"
      ]
     },
     "metadata": {},
     "output_type": "display_data"
    },
    {
     "data": {
      "application/vnd.jupyter.widget-view+json": {
       "model_id": "",
       "version_major": 2,
       "version_minor": 0
      },
      "text/plain": [
       "HBox(children=(IntProgress(value=0, description='aspect', max=1, style=ProgressStyle(description_width='initia…"
      ]
     },
     "metadata": {},
     "output_type": "display_data"
    },
    {
     "data": {
      "application/vnd.jupyter.widget-view+json": {
       "model_id": "",
       "version_major": 2,
       "version_minor": 0
      },
      "text/plain": [
       "HBox(children=(IntProgress(value=0, description='aspect', max=1, style=ProgressStyle(description_width='initia…"
      ]
     },
     "metadata": {},
     "output_type": "display_data"
    },
    {
     "data": {
      "application/vnd.jupyter.widget-view+json": {
       "model_id": "",
       "version_major": 2,
       "version_minor": 0
      },
      "text/plain": [
       "HBox(children=(IntProgress(value=0, description='edges', max=2724724, style=ProgressStyle(description_width='i…"
      ]
     },
     "metadata": {},
     "output_type": "display_data"
    },
    {
     "data": {
      "application/vnd.jupyter.widget-view+json": {
       "model_id": "",
       "version_major": 2,
       "version_minor": 0
      },
      "text/plain": [
       "HBox(children=(IntProgress(value=0, description='aspect', max=1, style=ProgressStyle(description_width='initia…"
      ]
     },
     "metadata": {},
     "output_type": "display_data"
    },
    {
     "data": {
      "application/vnd.jupyter.widget-view+json": {
       "model_id": "",
       "version_major": 2,
       "version_minor": 0
      },
      "text/plain": [
       "HBox(children=(IntProgress(value=0, description='nodes', max=19781, style=ProgressStyle(description_width='ini…"
      ]
     },
     "metadata": {},
     "output_type": "display_data"
    },
    {
     "data": {
      "application/vnd.jupyter.widget-view+json": {
       "model_id": "",
       "version_major": 2,
       "version_minor": 0
      },
      "text/plain": [
       "HBox(children=(IntProgress(value=0, description='aspect', max=1, style=ProgressStyle(description_width='initia…"
      ]
     },
     "metadata": {},
     "output_type": "display_data"
    },
    {
     "name": "stdout",
     "output_type": "stream",
     "text": [
      "\n"
     ]
    }
   ],
   "source": [
    "G = deepwalk.graph.Graph()\n",
    "node_data = {}\n",
    "node_labels = {}\n",
    "nodes_added = set()\n",
    "\n",
    "\n",
    "for entry in tqdm(res_json, desc='entry', leave=True):\n",
    "    for aspect, data in tqdm(entry.items(), desc='aspect', leave=False):       \n",
    "        if aspect == 'nodes':\n",
    "            for node in tqdm(data, desc='nodes', leave=False):\n",
    "                node_data[str(node['@id'])] = node\n",
    "                node_labels[str(node['@id'])] = node['n']\n",
    "\n",
    "        if aspect == 'edges':\n",
    "            for edge in tqdm(data, desc='edges', leave=False):\n",
    "                nodes_added.add(edge['s'])\n",
    "                nodes_added.add(edge['t'])\n",
    "                G[str(edge['s'])].append(str(edge['t']))\n",
    "\n",
    "for node in G:\n",
    "    G[node] = list(sorted(set(G[node])))"
   ]
  },
  {
   "cell_type": "code",
   "execution_count": 10,
   "metadata": {},
   "outputs": [
    {
     "name": "stdout",
     "output_type": "stream",
     "text": [
      "G has 19080 source nodes, 19116 target nodes, 19781 total nodes, and 2724724 edges\n"
     ]
    }
   ],
   "source": [
    "targets = set(itt.chain.from_iterable(G.values()))\n",
    "\n",
    "print(f'G has {len(G)} source nodes, '\n",
    "      f'{len(targets)} target nodes, '\n",
    "      f'{len(set(G) | targets)} total nodes, and '\n",
    "      f'{sum(len(v) for v in G.values())} edges')"
   ]
  },
  {
   "cell_type": "code",
   "execution_count": 11,
   "metadata": {},
   "outputs": [
    {
     "data": {
      "text/plain": [
       "19781"
      ]
     },
     "execution_count": 11,
     "metadata": {},
     "output_type": "execute_result"
    }
   ],
   "source": [
    "len(G.nodes())"
   ]
  },
  {
   "cell_type": "code",
   "execution_count": 12,
   "metadata": {},
   "outputs": [
    {
     "data": {
      "text/plain": [
       "{'@id': 0, 'n': 'UBE2Q1', 'r': 'hgnc.symbol:UBE2Q1'}"
      ]
     },
     "execution_count": 12,
     "metadata": {},
     "output_type": "execute_result"
    }
   ],
   "source": [
    "node_data['0']"
   ]
  },
  {
   "cell_type": "markdown",
   "metadata": {},
   "source": [
    "### Run DeepWalk\n",
    "\n",
    "Here are the constants used:"
   ]
  },
  {
   "cell_type": "code",
   "execution_count": 13,
   "metadata": {},
   "outputs": [],
   "source": [
    "NUM_PATHS = 20\n",
    "PATH_LENGTH = 80\n",
    "SIZE = 128\n",
    "WINDOW = 4"
   ]
  },
  {
   "cell_type": "markdown",
   "metadata": {},
   "source": [
    "A \"corpus\" of random walks are generated. This terminology is used because they are ultimately fed into the word2vec algorithm, which was originally used for generating embedding vectors for words in a text mining scenario."
   ]
  },
  {
   "cell_type": "code",
   "execution_count": 14,
   "metadata": {},
   "outputs": [
    {
     "name": "stdout",
     "output_type": "stream",
     "text": [
      "CPU times: user 12.1 s, sys: 257 ms, total: 12.4 s\n",
      "Wall time: 13 s\n"
     ]
    }
   ],
   "source": [
    "%%time\n",
    "\n",
    "walks = deepwalk.graph.build_deepwalk_corpus(\n",
    "    G, \n",
    "    num_paths=NUM_PATHS, \n",
    "    path_length=PATH_LENGTH,\n",
    ")"
   ]
  },
  {
   "cell_type": "markdown",
   "metadata": {},
   "source": [
    "Check that all of the nodes appear in the walks."
   ]
  },
  {
   "cell_type": "code",
   "execution_count": 15,
   "metadata": {},
   "outputs": [],
   "source": [
    "assert not (set(node_labels) - set(itt.chain.from_iterable(walks)))"
   ]
  },
  {
   "cell_type": "markdown",
   "metadata": {},
   "source": [
    "### Use walks with Word2Vec\n",
    "\n",
    "After they've been generated, they're available directly as a numpy matrix with `word2vec.wv.vectors`."
   ]
  },
  {
   "cell_type": "code",
   "execution_count": 16,
   "metadata": {},
   "outputs": [
    {
     "name": "stdout",
     "output_type": "stream",
     "text": [
      "CPU times: user 1min 34s, sys: 835 ms, total: 1min 35s\n",
      "Wall time: 27.2 s\n"
     ]
    }
   ],
   "source": [
    "%%time\n",
    "\n",
    "word2vec = Word2Vec(\n",
    "    sentences=[list(map(str, walk)) for walk in walks],\n",
    "    size=SIZE, \n",
    "    window=WINDOW, \n",
    "    min_count=0, \n",
    "    sg=1,\n",
    "    workers=4,\n",
    ")"
   ]
  },
  {
   "cell_type": "code",
   "execution_count": 17,
   "metadata": {},
   "outputs": [],
   "source": [
    "word2vec.wv.save_word2vec_format(f'{network_id}.word2vec.txt')"
   ]
  },
  {
   "cell_type": "markdown",
   "metadata": {},
   "source": [
    "### Generate Node Similarity Matrix\n",
    "\n",
    "Use the cosine similarity between vectors in this space. To get distance, do 1 - cosine similarity."
   ]
  },
  {
   "cell_type": "code",
   "execution_count": 24,
   "metadata": {},
   "outputs": [
    {
     "name": "stdout",
     "output_type": "stream",
     "text": [
      "CPU times: user 4.54 s, sys: 2.05 s, total: 6.59 s\n",
      "Wall time: 5.84 s\n"
     ]
    }
   ],
   "source": [
    "%%time\n",
    "\n",
    "sim = 1 - cosine_similarity(word2vec.wv.vectors)"
   ]
  },
  {
   "cell_type": "code",
   "execution_count": 25,
   "metadata": {},
   "outputs": [],
   "source": [
    "labels = [node_labels[n] for n in word2vec.wv.index2word]\n",
    "sim_df = pd.DataFrame(sim, index=labels, columns=labels)"
   ]
  },
  {
   "cell_type": "code",
   "execution_count": 29,
   "metadata": {},
   "outputs": [
    {
     "data": {
      "text/html": [
       "<div>\n",
       "<style scoped>\n",
       "    .dataframe tbody tr th:only-of-type {\n",
       "        vertical-align: middle;\n",
       "    }\n",
       "\n",
       "    .dataframe tbody tr th {\n",
       "        vertical-align: top;\n",
       "    }\n",
       "\n",
       "    .dataframe thead th {\n",
       "        text-align: right;\n",
       "    }\n",
       "</style>\n",
       "<table border=\"1\" class=\"dataframe\">\n",
       "  <thead>\n",
       "    <tr style=\"text-align: right;\">\n",
       "      <th></th>\n",
       "      <th>SERPINH1</th>\n",
       "      <th>LDHB</th>\n",
       "      <th>CFL1</th>\n",
       "      <th>LDHC</th>\n",
       "      <th>LDHA</th>\n",
       "      <th>GNGT1</th>\n",
       "      <th>SELP</th>\n",
       "      <th>PRPS1</th>\n",
       "      <th>NFIX</th>\n",
       "      <th>PTH1R</th>\n",
       "      <th>...</th>\n",
       "      <th>SEPP1</th>\n",
       "      <th>PAQR9</th>\n",
       "      <th>SGSM1</th>\n",
       "      <th>OR7A17</th>\n",
       "      <th>MAGEL2</th>\n",
       "      <th>SLC25A51</th>\n",
       "      <th>UBE2Q2</th>\n",
       "      <th>MCCD1</th>\n",
       "      <th>TTC27</th>\n",
       "      <th>MRPL41</th>\n",
       "    </tr>\n",
       "  </thead>\n",
       "  <tbody>\n",
       "    <tr>\n",
       "      <th>SERPINH1</th>\n",
       "      <td>-1.192093e-07</td>\n",
       "      <td>3.370851e-01</td>\n",
       "      <td>0.364377</td>\n",
       "      <td>2.504417e-01</td>\n",
       "      <td>3.458785e-01</td>\n",
       "      <td>0.846963</td>\n",
       "      <td>0.590955</td>\n",
       "      <td>0.399605</td>\n",
       "      <td>0.580317</td>\n",
       "      <td>0.683794</td>\n",
       "      <td>...</td>\n",
       "      <td>0.738503</td>\n",
       "      <td>0.764865</td>\n",
       "      <td>0.664739</td>\n",
       "      <td>0.850983</td>\n",
       "      <td>0.613410</td>\n",
       "      <td>0.670290</td>\n",
       "      <td>0.590677</td>\n",
       "      <td>0.760782</td>\n",
       "      <td>0.676372</td>\n",
       "      <td>0.630641</td>\n",
       "    </tr>\n",
       "    <tr>\n",
       "      <th>LDHB</th>\n",
       "      <td>3.370851e-01</td>\n",
       "      <td>-1.192093e-07</td>\n",
       "      <td>0.267796</td>\n",
       "      <td>3.300763e-01</td>\n",
       "      <td>2.105537e-01</td>\n",
       "      <td>0.812056</td>\n",
       "      <td>0.800143</td>\n",
       "      <td>0.338855</td>\n",
       "      <td>0.613683</td>\n",
       "      <td>0.757142</td>\n",
       "      <td>...</td>\n",
       "      <td>0.786891</td>\n",
       "      <td>0.760254</td>\n",
       "      <td>0.626906</td>\n",
       "      <td>0.875428</td>\n",
       "      <td>0.605490</td>\n",
       "      <td>0.594739</td>\n",
       "      <td>0.568401</td>\n",
       "      <td>0.688740</td>\n",
       "      <td>0.602410</td>\n",
       "      <td>0.572164</td>\n",
       "    </tr>\n",
       "    <tr>\n",
       "      <th>CFL1</th>\n",
       "      <td>3.643774e-01</td>\n",
       "      <td>2.677963e-01</td>\n",
       "      <td>0.000000</td>\n",
       "      <td>1.550904e-01</td>\n",
       "      <td>2.599370e-01</td>\n",
       "      <td>0.797273</td>\n",
       "      <td>0.779284</td>\n",
       "      <td>0.336873</td>\n",
       "      <td>0.667381</td>\n",
       "      <td>0.772707</td>\n",
       "      <td>...</td>\n",
       "      <td>0.767200</td>\n",
       "      <td>0.750455</td>\n",
       "      <td>0.593660</td>\n",
       "      <td>0.869306</td>\n",
       "      <td>0.580920</td>\n",
       "      <td>0.625776</td>\n",
       "      <td>0.566126</td>\n",
       "      <td>0.749690</td>\n",
       "      <td>0.607950</td>\n",
       "      <td>0.600510</td>\n",
       "    </tr>\n",
       "    <tr>\n",
       "      <th>LDHC</th>\n",
       "      <td>2.504417e-01</td>\n",
       "      <td>3.300763e-01</td>\n",
       "      <td>0.155090</td>\n",
       "      <td>-2.384186e-07</td>\n",
       "      <td>3.165914e-01</td>\n",
       "      <td>0.775677</td>\n",
       "      <td>0.682521</td>\n",
       "      <td>0.423188</td>\n",
       "      <td>0.717771</td>\n",
       "      <td>0.716506</td>\n",
       "      <td>...</td>\n",
       "      <td>0.767041</td>\n",
       "      <td>0.755215</td>\n",
       "      <td>0.586659</td>\n",
       "      <td>0.784148</td>\n",
       "      <td>0.621067</td>\n",
       "      <td>0.605261</td>\n",
       "      <td>0.599655</td>\n",
       "      <td>0.649744</td>\n",
       "      <td>0.626946</td>\n",
       "      <td>0.594150</td>\n",
       "    </tr>\n",
       "    <tr>\n",
       "      <th>LDHA</th>\n",
       "      <td>3.458785e-01</td>\n",
       "      <td>2.105537e-01</td>\n",
       "      <td>0.259937</td>\n",
       "      <td>3.165914e-01</td>\n",
       "      <td>3.576279e-07</td>\n",
       "      <td>0.759368</td>\n",
       "      <td>0.779663</td>\n",
       "      <td>0.327824</td>\n",
       "      <td>0.585723</td>\n",
       "      <td>0.687397</td>\n",
       "      <td>...</td>\n",
       "      <td>0.764088</td>\n",
       "      <td>0.752084</td>\n",
       "      <td>0.654709</td>\n",
       "      <td>0.856935</td>\n",
       "      <td>0.601715</td>\n",
       "      <td>0.594422</td>\n",
       "      <td>0.616446</td>\n",
       "      <td>0.687300</td>\n",
       "      <td>0.598617</td>\n",
       "      <td>0.579241</td>\n",
       "    </tr>\n",
       "  </tbody>\n",
       "</table>\n",
       "<p>5 rows × 19781 columns</p>\n",
       "</div>"
      ],
      "text/plain": [
       "              SERPINH1          LDHB      CFL1          LDHC          LDHA  \\\n",
       "SERPINH1 -1.192093e-07  3.370851e-01  0.364377  2.504417e-01  3.458785e-01   \n",
       "LDHB      3.370851e-01 -1.192093e-07  0.267796  3.300763e-01  2.105537e-01   \n",
       "CFL1      3.643774e-01  2.677963e-01  0.000000  1.550904e-01  2.599370e-01   \n",
       "LDHC      2.504417e-01  3.300763e-01  0.155090 -2.384186e-07  3.165914e-01   \n",
       "LDHA      3.458785e-01  2.105537e-01  0.259937  3.165914e-01  3.576279e-07   \n",
       "\n",
       "             GNGT1      SELP     PRPS1      NFIX     PTH1R    ...     \\\n",
       "SERPINH1  0.846963  0.590955  0.399605  0.580317  0.683794    ...      \n",
       "LDHB      0.812056  0.800143  0.338855  0.613683  0.757142    ...      \n",
       "CFL1      0.797273  0.779284  0.336873  0.667381  0.772707    ...      \n",
       "LDHC      0.775677  0.682521  0.423188  0.717771  0.716506    ...      \n",
       "LDHA      0.759368  0.779663  0.327824  0.585723  0.687397    ...      \n",
       "\n",
       "             SEPP1     PAQR9     SGSM1    OR7A17    MAGEL2  SLC25A51  \\\n",
       "SERPINH1  0.738503  0.764865  0.664739  0.850983  0.613410  0.670290   \n",
       "LDHB      0.786891  0.760254  0.626906  0.875428  0.605490  0.594739   \n",
       "CFL1      0.767200  0.750455  0.593660  0.869306  0.580920  0.625776   \n",
       "LDHC      0.767041  0.755215  0.586659  0.784148  0.621067  0.605261   \n",
       "LDHA      0.764088  0.752084  0.654709  0.856935  0.601715  0.594422   \n",
       "\n",
       "            UBE2Q2     MCCD1     TTC27    MRPL41  \n",
       "SERPINH1  0.590677  0.760782  0.676372  0.630641  \n",
       "LDHB      0.568401  0.688740  0.602410  0.572164  \n",
       "CFL1      0.566126  0.749690  0.607950  0.600510  \n",
       "LDHC      0.599655  0.649744  0.626946  0.594150  \n",
       "LDHA      0.616446  0.687300  0.598617  0.579241  \n",
       "\n",
       "[5 rows x 19781 columns]"
      ]
     },
     "execution_count": 29,
     "metadata": {},
     "output_type": "execute_result"
    }
   ],
   "source": [
    "sim_df.head()"
   ]
  },
  {
   "cell_type": "markdown",
   "metadata": {},
   "source": [
    "## Run CLiXO"
   ]
  },
  {
   "cell_type": "markdown",
   "metadata": {},
   "source": [
    "First, slice the similarity matrix by the target genes."
   ]
  },
  {
   "cell_type": "code",
   "execution_count": null,
   "metadata": {},
   "outputs": [],
   "source": [
    "target_genes = [\n",
    "    'SERPINH1', \n",
    "    'LDHB', \n",
    "    'LDHB',\n",
    "]"
   ]
  },
  {
   "cell_type": "code",
   "execution_count": 32,
   "metadata": {},
   "outputs": [
    {
     "data": {
      "text/html": [
       "<div>\n",
       "<style scoped>\n",
       "    .dataframe tbody tr th:only-of-type {\n",
       "        vertical-align: middle;\n",
       "    }\n",
       "\n",
       "    .dataframe tbody tr th {\n",
       "        vertical-align: top;\n",
       "    }\n",
       "\n",
       "    .dataframe thead th {\n",
       "        text-align: right;\n",
       "    }\n",
       "</style>\n",
       "<table border=\"1\" class=\"dataframe\">\n",
       "  <thead>\n",
       "    <tr style=\"text-align: right;\">\n",
       "      <th></th>\n",
       "      <th>SERPINH1</th>\n",
       "      <th>LDHB</th>\n",
       "      <th>LDHB</th>\n",
       "    </tr>\n",
       "  </thead>\n",
       "  <tbody>\n",
       "    <tr>\n",
       "      <th>SERPINH1</th>\n",
       "      <td>-1.192093e-07</td>\n",
       "      <td>3.370851e-01</td>\n",
       "      <td>3.370851e-01</td>\n",
       "    </tr>\n",
       "    <tr>\n",
       "      <th>LDHB</th>\n",
       "      <td>3.370851e-01</td>\n",
       "      <td>-1.192093e-07</td>\n",
       "      <td>-1.192093e-07</td>\n",
       "    </tr>\n",
       "    <tr>\n",
       "      <th>LDHB</th>\n",
       "      <td>3.370851e-01</td>\n",
       "      <td>-1.192093e-07</td>\n",
       "      <td>-1.192093e-07</td>\n",
       "    </tr>\n",
       "  </tbody>\n",
       "</table>\n",
       "</div>"
      ],
      "text/plain": [
       "              SERPINH1          LDHB          LDHB\n",
       "SERPINH1 -1.192093e-07  3.370851e-01  3.370851e-01\n",
       "LDHB      3.370851e-01 -1.192093e-07 -1.192093e-07\n",
       "LDHB      3.370851e-01 -1.192093e-07 -1.192093e-07"
      ]
     },
     "execution_count": 32,
     "metadata": {},
     "output_type": "execute_result"
    }
   ],
   "source": [
    "# Only keep rows and columns for target genes\n",
    "truncated_sim_df = sim_df.loc[target_genes,target_genes]"
   ]
  },
  {
   "cell_type": "code",
   "execution_count": 28,
   "metadata": {},
   "outputs": [
    {
     "ename": "KeyboardInterrupt",
     "evalue": "",
     "output_type": "error",
     "traceback": [
      "\u001b[0;31m---------------------------------------------------------------------------\u001b[0m",
      "\u001b[0;31mKeyboardInterrupt\u001b[0m                         Traceback (most recent call last)",
      "\u001b[0;32m<ipython-input-28-31a6c0e02678>\u001b[0m in \u001b[0;36m<module>\u001b[0;34m\u001b[0m\n\u001b[1;32m      7\u001b[0m     \u001b[0mbeta\u001b[0m\u001b[0;34m=\u001b[0m\u001b[0;36m1.0\u001b[0m\u001b[0;34m,\u001b[0m\u001b[0;34m\u001b[0m\u001b[0m\n\u001b[1;32m      8\u001b[0m     \u001b[0msquare\u001b[0m\u001b[0;34m=\u001b[0m\u001b[0;32mTrue\u001b[0m\u001b[0;34m,\u001b[0m\u001b[0;34m\u001b[0m\u001b[0m\n\u001b[0;32m----> 9\u001b[0;31m     \u001b[0msquare_names\u001b[0m\u001b[0;34m=\u001b[0m\u001b[0mlabels\u001b[0m\u001b[0;34m,\u001b[0m\u001b[0;34m\u001b[0m\u001b[0m\n\u001b[0m\u001b[1;32m     10\u001b[0m )\n",
      "\u001b[0;32m~/dev/ddot/ddot/Ontology.py\u001b[0m in \u001b[0;36mrun_clixo\u001b[0;34m(cls, df, df_output_path, clixo_output_path, output_log_path, alpha, beta, min_dt, timeout, square, square_names, verbose)\u001b[0m\n\u001b[1;32m   3313\u001b[0m                 \u001b[0;32mbreak\u001b[0m\u001b[0;34m\u001b[0m\u001b[0m\n\u001b[1;32m   3314\u001b[0m \u001b[0;34m\u001b[0m\u001b[0m\n\u001b[0;32m-> 3315\u001b[0;31m             \u001b[0mline\u001b[0m \u001b[0;34m=\u001b[0m \u001b[0mp\u001b[0m\u001b[0;34m.\u001b[0m\u001b[0mstdout\u001b[0m\u001b[0;34m.\u001b[0m\u001b[0mreadline\u001b[0m\u001b[0;34m(\u001b[0m\u001b[0;34m)\u001b[0m\u001b[0;34m.\u001b[0m\u001b[0mdecode\u001b[0m\u001b[0;34m(\u001b[0m\u001b[0;34m)\u001b[0m\u001b[0;34m.\u001b[0m\u001b[0mrstrip\u001b[0m\u001b[0;34m(\u001b[0m\u001b[0;34m)\u001b[0m\u001b[0;34m\u001b[0m\u001b[0m\n\u001b[0m\u001b[1;32m   3316\u001b[0m \u001b[0;34m\u001b[0m\u001b[0m\n\u001b[1;32m   3317\u001b[0m             \u001b[0;31m# If line was empty, then sleep a bit\u001b[0m\u001b[0;34m\u001b[0m\u001b[0;34m\u001b[0m\u001b[0m\n",
      "\u001b[0;31mKeyboardInterrupt\u001b[0m: "
     ]
    }
   ],
   "source": [
    "ont2 = Ontology.run_clixo(\n",
    "    df=truncated_sim_df, \n",
    "    df_output_path=f'{network_id}_df_temp.txt', \n",
    "    clixo_output_path=f'{network_id}_clixo_temp.txt', \n",
    "    output_log_path=f'{network_id}_log.txt',\n",
    "    alpha=0.0, \n",
    "    beta=1.0, \n",
    "    square=True, \n",
    "    square_names=labels,\n",
    ")"
   ]
  }
 ],
 "metadata": {
  "kernelspec": {
   "display_name": "Python 3",
   "language": "python",
   "name": "python3"
  },
  "language_info": {
   "codemirror_mode": {
    "name": "ipython",
    "version": 3
   },
   "file_extension": ".py",
   "mimetype": "text/x-python",
   "name": "python",
   "nbconvert_exporter": "python",
   "pygments_lexer": "ipython3",
   "version": "3.7.0"
  }
 },
 "nbformat": 4,
 "nbformat_minor": 2
}
